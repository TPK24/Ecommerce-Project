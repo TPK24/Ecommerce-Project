{
 "cells": [
  {
   "cell_type": "markdown",
   "id": "55634c48-edd5-48f9-9e31-8a06efc28f3c",
   "metadata": {},
   "source": [
    "# Ecommerce Product Categorization"
   ]
  },
  {
   "cell_type": "markdown",
   "id": "4e536986-02e1-4b36-bfc3-c74ba95a9b9a",
   "metadata": {},
   "source": [
    "### In the rapidly evolving world of eCommerce, accurate product categorization is crucial for ensuring seamless customer experiences, reducing search friction, and increasing product discoverability. However, the sheer volume of diverse products poses a significant challenge. Current classification systems struggle to handle ambiguities, unconventional naming conventions, and multi-language data. Develop a text classification model that categorizes products with maximum accuracy based on description of the product."
   ]
  },
  {
   "cell_type": "markdown",
   "id": "55aedcb5-ec12-4e53-98ce-51f665b87910",
   "metadata": {},
   "source": [
    "# Objectives: "
   ]
  },
  {
   "cell_type": "markdown",
   "id": "9929f76f-107a-43d5-9838-10f2596db060",
   "metadata": {},
   "source": [
    "<!-- 1. Data Exploration and Preparation:\n",
    "2. Descriptive Analysis & Visualization:\n",
    "3. Feature Engineering/Text to Features:\n",
    "4. Predictive Modeling:\n",
    "5. Fine Tuning:\n",
    "6. Enhance Categorization Accuracy: -->"
   ]
  },
  {
   "cell_type": "markdown",
   "id": "acaa293d-f100-4a23-b88c-bbe927f8e81d",
   "metadata": {},
   "source": [
    "<!-- ### Data Import and Preprocessing\n",
    "# Exploratory Data Analysis (EDA)\n",
    "# Feature Engineering/Text to feature\n",
    "# Machine Learning Model Building\n",
    "# Model Evaluation:\n",
    "# Imbalanced Class Handling\n",
    "# Cross-Validation\n",
    "# Hyperparameter Tuning\n",
    "# Predictions -->"
   ]
  },
  {
   "cell_type": "code",
   "execution_count": 142,
   "id": "d925f29b-5d9c-4857-8d56-cad673f65cb3",
   "metadata": {},
   "outputs": [],
   "source": [
    "# Data Import and Preprocessing\n",
    "# Exploratory Data Analysis (EDA)\n",
    "# Feature Engineering/Text to feature\n",
    "# Machine Learning Model Building\n",
    "# Model Evaluation:\n",
    "# Imbalanced Class Handling\n",
    "# Cross-Validation\n",
    "# Hyperparameter Tuning\n",
    "# Predictions "
   ]
  },
  {
   "cell_type": "markdown",
   "id": "bfcd167b-9abd-44c1-9a4e-8fe2c9867390",
   "metadata": {},
   "source": [
    "### Data Import and Preprocessing"
   ]
  },
  {
   "cell_type": "code",
   "execution_count": 143,
   "id": "fa8d4ce2-5a70-46bb-bc73-0c36e4a5eae0",
   "metadata": {},
   "outputs": [],
   "source": [
    "import numpy as np\n",
    "import pandas as pd \n",
    "import matplotlib.pyplot as plt \n",
    "import seaborn as sns"
   ]
  },
  {
   "cell_type": "code",
   "execution_count": 144,
   "id": "b0d84426-bf4a-4ffb-a261-271a58d27b40",
   "metadata": {},
   "outputs": [
    {
     "data": {
      "text/html": [
       "<div>\n",
       "<style scoped>\n",
       "    .dataframe tbody tr th:only-of-type {\n",
       "        vertical-align: middle;\n",
       "    }\n",
       "\n",
       "    .dataframe tbody tr th {\n",
       "        vertical-align: top;\n",
       "    }\n",
       "\n",
       "    .dataframe thead th {\n",
       "        text-align: right;\n",
       "    }\n",
       "</style>\n",
       "<table border=\"1\" class=\"dataframe\">\n",
       "  <thead>\n",
       "    <tr style=\"text-align: right;\">\n",
       "      <th></th>\n",
       "      <th>uniq_id</th>\n",
       "      <th>crawl_timestamp</th>\n",
       "      <th>product_url</th>\n",
       "      <th>product_name</th>\n",
       "      <th>product_category_tree</th>\n",
       "      <th>pid</th>\n",
       "      <th>retail_price</th>\n",
       "      <th>discounted_price</th>\n",
       "      <th>image</th>\n",
       "      <th>is_FK_Advantage_product</th>\n",
       "      <th>description</th>\n",
       "      <th>product_rating</th>\n",
       "      <th>overall_rating</th>\n",
       "      <th>brand</th>\n",
       "      <th>product_specifications</th>\n",
       "    </tr>\n",
       "  </thead>\n",
       "  <tbody>\n",
       "    <tr>\n",
       "      <th>0</th>\n",
       "      <td>c2d766ca982eca8304150849735ffef9</td>\n",
       "      <td>2016-03-25 22:59:23 +0000</td>\n",
       "      <td>http://www.flipkart.com/alisha-solid-women-s-c...</td>\n",
       "      <td>Alisha Solid Women's Cycling Shorts</td>\n",
       "      <td>Clothing</td>\n",
       "      <td>SRTEH2FF9KEDEFGF</td>\n",
       "      <td>999.0</td>\n",
       "      <td>379.0</td>\n",
       "      <td>[\"http://img5a.flixcart.com/image/short/u/4/a/...</td>\n",
       "      <td>False</td>\n",
       "      <td>Key Features of Alisha Solid Women's Cycling S...</td>\n",
       "      <td>No rating available</td>\n",
       "      <td>No rating available</td>\n",
       "      <td>Alisha</td>\n",
       "      <td>{\"product_specification\"=&gt;[{\"key\"=&gt;\"Number of ...</td>\n",
       "    </tr>\n",
       "    <tr>\n",
       "      <th>1</th>\n",
       "      <td>f449ec65dcbc041b6ae5e6a32717d01b</td>\n",
       "      <td>2016-03-25 22:59:23 +0000</td>\n",
       "      <td>http://www.flipkart.com/aw-bellies/p/itmeh4grg...</td>\n",
       "      <td>AW Bellies</td>\n",
       "      <td>Footwear</td>\n",
       "      <td>SHOEH4GRSUBJGZXE</td>\n",
       "      <td>999.0</td>\n",
       "      <td>499.0</td>\n",
       "      <td>[\"http://img5a.flixcart.com/image/shoe/7/z/z/r...</td>\n",
       "      <td>False</td>\n",
       "      <td>Key Features of AW Bellies Sandals Wedges Heel...</td>\n",
       "      <td>No rating available</td>\n",
       "      <td>No rating available</td>\n",
       "      <td>AW</td>\n",
       "      <td>{\"product_specification\"=&gt;[{\"key\"=&gt;\"Ideal For\"...</td>\n",
       "    </tr>\n",
       "    <tr>\n",
       "      <th>2</th>\n",
       "      <td>0973b37acd0c664e3de26e97e5571454</td>\n",
       "      <td>2016-03-25 22:59:23 +0000</td>\n",
       "      <td>http://www.flipkart.com/alisha-solid-women-s-c...</td>\n",
       "      <td>Alisha Solid Women's Cycling Shorts</td>\n",
       "      <td>Clothing</td>\n",
       "      <td>SRTEH2F6HUZMQ6SJ</td>\n",
       "      <td>699.0</td>\n",
       "      <td>267.0</td>\n",
       "      <td>[\"http://img5a.flixcart.com/image/short/6/2/h/...</td>\n",
       "      <td>False</td>\n",
       "      <td>Key Features of Alisha Solid Women's Cycling S...</td>\n",
       "      <td>No rating available</td>\n",
       "      <td>No rating available</td>\n",
       "      <td>Alisha</td>\n",
       "      <td>{\"product_specification\"=&gt;[{\"key\"=&gt;\"Number of ...</td>\n",
       "    </tr>\n",
       "    <tr>\n",
       "      <th>3</th>\n",
       "      <td>ce5a6818f7707e2cb61fdcdbba61f5ad</td>\n",
       "      <td>2016-03-25 22:59:23 +0000</td>\n",
       "      <td>http://www.flipkart.com/alisha-solid-women-s-c...</td>\n",
       "      <td>Alisha Solid Women's Cycling Shorts</td>\n",
       "      <td>Clothing</td>\n",
       "      <td>SRTEH2FVVKRBAXHB</td>\n",
       "      <td>1199.0</td>\n",
       "      <td>479.0</td>\n",
       "      <td>[\"http://img6a.flixcart.com/image/short/p/j/z/...</td>\n",
       "      <td>False</td>\n",
       "      <td>Key Features of Alisha Solid Women's Cycling S...</td>\n",
       "      <td>No rating available</td>\n",
       "      <td>No rating available</td>\n",
       "      <td>Alisha</td>\n",
       "      <td>{\"product_specification\"=&gt;[{\"key\"=&gt;\"Number of ...</td>\n",
       "    </tr>\n",
       "    <tr>\n",
       "      <th>4</th>\n",
       "      <td>29c8d290caa451f97b1c32df64477a2c</td>\n",
       "      <td>2016-03-25 22:59:23 +0000</td>\n",
       "      <td>http://www.flipkart.com/dilli-bazaaar-bellies-...</td>\n",
       "      <td>dilli bazaaar Bellies, Corporate Casuals, Casuals</td>\n",
       "      <td>Footwear</td>\n",
       "      <td>SHOEH3DZBFR88SCK</td>\n",
       "      <td>699.0</td>\n",
       "      <td>349.0</td>\n",
       "      <td>[\"http://img6a.flixcart.com/image/shoe/b/p/n/p...</td>\n",
       "      <td>False</td>\n",
       "      <td>Key Features of dilli bazaaar Bellies, Corpora...</td>\n",
       "      <td>No rating available</td>\n",
       "      <td>No rating available</td>\n",
       "      <td>dilli bazaaar</td>\n",
       "      <td>{\"product_specification\"=&gt;[{\"key\"=&gt;\"Occasion\",...</td>\n",
       "    </tr>\n",
       "  </tbody>\n",
       "</table>\n",
       "</div>"
      ],
      "text/plain": [
       "                            uniq_id            crawl_timestamp  \\\n",
       "0  c2d766ca982eca8304150849735ffef9  2016-03-25 22:59:23 +0000   \n",
       "1  f449ec65dcbc041b6ae5e6a32717d01b  2016-03-25 22:59:23 +0000   \n",
       "2  0973b37acd0c664e3de26e97e5571454  2016-03-25 22:59:23 +0000   \n",
       "3  ce5a6818f7707e2cb61fdcdbba61f5ad  2016-03-25 22:59:23 +0000   \n",
       "4  29c8d290caa451f97b1c32df64477a2c  2016-03-25 22:59:23 +0000   \n",
       "\n",
       "                                         product_url  \\\n",
       "0  http://www.flipkart.com/alisha-solid-women-s-c...   \n",
       "1  http://www.flipkart.com/aw-bellies/p/itmeh4grg...   \n",
       "2  http://www.flipkart.com/alisha-solid-women-s-c...   \n",
       "3  http://www.flipkart.com/alisha-solid-women-s-c...   \n",
       "4  http://www.flipkart.com/dilli-bazaaar-bellies-...   \n",
       "\n",
       "                                        product_name product_category_tree  \\\n",
       "0                Alisha Solid Women's Cycling Shorts             Clothing    \n",
       "1                                         AW Bellies             Footwear    \n",
       "2                Alisha Solid Women's Cycling Shorts             Clothing    \n",
       "3                Alisha Solid Women's Cycling Shorts             Clothing    \n",
       "4  dilli bazaaar Bellies, Corporate Casuals, Casuals             Footwear    \n",
       "\n",
       "                pid  retail_price  discounted_price  \\\n",
       "0  SRTEH2FF9KEDEFGF         999.0             379.0   \n",
       "1  SHOEH4GRSUBJGZXE         999.0             499.0   \n",
       "2  SRTEH2F6HUZMQ6SJ         699.0             267.0   \n",
       "3  SRTEH2FVVKRBAXHB        1199.0             479.0   \n",
       "4  SHOEH3DZBFR88SCK         699.0             349.0   \n",
       "\n",
       "                                               image  is_FK_Advantage_product  \\\n",
       "0  [\"http://img5a.flixcart.com/image/short/u/4/a/...                    False   \n",
       "1  [\"http://img5a.flixcart.com/image/shoe/7/z/z/r...                    False   \n",
       "2  [\"http://img5a.flixcart.com/image/short/6/2/h/...                    False   \n",
       "3  [\"http://img6a.flixcart.com/image/short/p/j/z/...                    False   \n",
       "4  [\"http://img6a.flixcart.com/image/shoe/b/p/n/p...                    False   \n",
       "\n",
       "                                         description       product_rating  \\\n",
       "0  Key Features of Alisha Solid Women's Cycling S...  No rating available   \n",
       "1  Key Features of AW Bellies Sandals Wedges Heel...  No rating available   \n",
       "2  Key Features of Alisha Solid Women's Cycling S...  No rating available   \n",
       "3  Key Features of Alisha Solid Women's Cycling S...  No rating available   \n",
       "4  Key Features of dilli bazaaar Bellies, Corpora...  No rating available   \n",
       "\n",
       "        overall_rating          brand  \\\n",
       "0  No rating available         Alisha   \n",
       "1  No rating available             AW   \n",
       "2  No rating available         Alisha   \n",
       "3  No rating available         Alisha   \n",
       "4  No rating available  dilli bazaaar   \n",
       "\n",
       "                              product_specifications  \n",
       "0  {\"product_specification\"=>[{\"key\"=>\"Number of ...  \n",
       "1  {\"product_specification\"=>[{\"key\"=>\"Ideal For\"...  \n",
       "2  {\"product_specification\"=>[{\"key\"=>\"Number of ...  \n",
       "3  {\"product_specification\"=>[{\"key\"=>\"Number of ...  \n",
       "4  {\"product_specification\"=>[{\"key\"=>\"Occasion\",...  "
      ]
     },
     "execution_count": 144,
     "metadata": {},
     "output_type": "execute_result"
    }
   ],
   "source": [
    "ecom_data = pd.read_csv(r\"C:\\Upgrad\\PYTHON week 6, 7 8\\train_product_data.csv\")\n",
    "ecom_data.head()"
   ]
  },
  {
   "cell_type": "code",
   "execution_count": 145,
   "id": "2eef7de3-ae89-4954-b5c7-deb3a2320a40",
   "metadata": {},
   "outputs": [
    {
     "name": "stdout",
     "output_type": "stream",
     "text": [
      "<class 'pandas.core.frame.DataFrame'>\n",
      "RangeIndex: 14999 entries, 0 to 14998\n",
      "Data columns (total 15 columns):\n",
      " #   Column                   Non-Null Count  Dtype  \n",
      "---  ------                   --------------  -----  \n",
      " 0   uniq_id                  14999 non-null  object \n",
      " 1   crawl_timestamp          14999 non-null  object \n",
      " 2   product_url              14999 non-null  object \n",
      " 3   product_name             14999 non-null  object \n",
      " 4   product_category_tree    14999 non-null  object \n",
      " 5   pid                      14999 non-null  object \n",
      " 6   retail_price             14942 non-null  float64\n",
      " 7   discounted_price         14942 non-null  float64\n",
      " 8   image                    14996 non-null  object \n",
      " 9   is_FK_Advantage_product  14999 non-null  bool   \n",
      " 10  description              14998 non-null  object \n",
      " 11  product_rating           14999 non-null  object \n",
      " 12  overall_rating           14999 non-null  object \n",
      " 13  brand                    10289 non-null  object \n",
      " 14  product_specifications   14993 non-null  object \n",
      "dtypes: bool(1), float64(2), object(12)\n",
      "memory usage: 1.6+ MB\n"
     ]
    }
   ],
   "source": [
    "ecom_data.info()"
   ]
  },
  {
   "cell_type": "code",
   "execution_count": 146,
   "id": "84351136-2829-4d98-b556-8fef2bcceec6",
   "metadata": {},
   "outputs": [
    {
     "data": {
      "text/plain": [
       "Index(['uniq_id', 'crawl_timestamp', 'product_url', 'product_name',\n",
       "       'product_category_tree', 'pid', 'retail_price', 'discounted_price',\n",
       "       'image', 'is_FK_Advantage_product', 'description', 'product_rating',\n",
       "       'overall_rating', 'brand', 'product_specifications'],\n",
       "      dtype='object')"
      ]
     },
     "execution_count": 146,
     "metadata": {},
     "output_type": "execute_result"
    }
   ],
   "source": [
    "ecom_data.columns"
   ]
  },
  {
   "cell_type": "code",
   "execution_count": 147,
   "id": "c9b22cdb-36d3-4449-abc8-b66b75c9f9b7",
   "metadata": {},
   "outputs": [
    {
     "data": {
      "text/plain": [
       "(14999, 15)"
      ]
     },
     "execution_count": 147,
     "metadata": {},
     "output_type": "execute_result"
    }
   ],
   "source": [
    "ecom_data.shape"
   ]
  },
  {
   "cell_type": "markdown",
   "id": "2431c7f4-5703-4efe-af48-771e1f454b5d",
   "metadata": {},
   "source": [
    "## Feature Transformation"
   ]
  },
  {
   "cell_type": "markdown",
   "id": "6d82d04d-9160-437c-8027-7cbf3ed8de20",
   "metadata": {},
   "source": [
    "#### Missing Value Treatment"
   ]
  },
  {
   "cell_type": "code",
   "execution_count": 148,
   "id": "579bdb07-2eeb-495c-b533-36f667f5d331",
   "metadata": {},
   "outputs": [
    {
     "data": {
      "text/plain": [
       "uniq_id                       0\n",
       "crawl_timestamp               0\n",
       "product_url                   0\n",
       "product_name                  0\n",
       "product_category_tree         0\n",
       "pid                           0\n",
       "retail_price                 57\n",
       "discounted_price             57\n",
       "image                         3\n",
       "is_FK_Advantage_product       0\n",
       "description                   1\n",
       "product_rating                0\n",
       "overall_rating                0\n",
       "brand                      4710\n",
       "product_specifications        6\n",
       "dtype: int64"
      ]
     },
     "execution_count": 148,
     "metadata": {},
     "output_type": "execute_result"
    }
   ],
   "source": [
    "ecom_data.isnull().sum()"
   ]
  },
  {
   "cell_type": "code",
   "execution_count": 149,
   "id": "cad30668-2ff4-4055-8175-f2490c42c591",
   "metadata": {},
   "outputs": [],
   "source": [
    "ecom_data.fillna({'brand': 'Not Mentioned', 'retail_price' : 0, 'discounted_price':0,\n",
    "                  'image':'Absent','description':'Not Mentioned',\n",
    "                  'product_specifications':'Not Given'},inplace=True)"
   ]
  },
  {
   "cell_type": "code",
   "execution_count": 150,
   "id": "bb1cdc24-29b0-415a-ae14-df8659670c85",
   "metadata": {},
   "outputs": [
    {
     "data": {
      "text/plain": [
       "uniq_id                    0\n",
       "crawl_timestamp            0\n",
       "product_url                0\n",
       "product_name               0\n",
       "product_category_tree      0\n",
       "pid                        0\n",
       "retail_price               0\n",
       "discounted_price           0\n",
       "image                      0\n",
       "is_FK_Advantage_product    0\n",
       "description                0\n",
       "product_rating             0\n",
       "overall_rating             0\n",
       "brand                      0\n",
       "product_specifications     0\n",
       "dtype: int64"
      ]
     },
     "execution_count": 150,
     "metadata": {},
     "output_type": "execute_result"
    }
   ],
   "source": [
    "ecom_data.isnull().sum()"
   ]
  },
  {
   "cell_type": "markdown",
   "id": "41986cb7-f622-419b-9a8e-7d8d0065fdb3",
   "metadata": {},
   "source": [
    "## Identifying Outliers & Treatment of Outliers"
   ]
  },
  {
   "cell_type": "code",
   "execution_count": 151,
   "id": "2c3d6780-0bd4-49fd-bcd0-7802785e640b",
   "metadata": {},
   "outputs": [
    {
     "data": {
      "text/plain": [
       "<Axes: >"
      ]
     },
     "execution_count": 151,
     "metadata": {},
     "output_type": "execute_result"
    },
    {
     "data": {
      "image/png": "[encoded data removed]",
      "text/plain": [
       "<Figure size 640x480 with 1 Axes>"
      ]
     },
     "metadata": {},
     "output_type": "display_data"
    }
   ],
   "source": [
    "sns.boxenplot(ecom_data['retail_price'])"
   ]
  },
  {
   "cell_type": "code",
   "execution_count": 152,
   "id": "61bddc06-7855-4294-a276-8d59fb2e7cba",
   "metadata": {},
   "outputs": [
    {
     "data": {
      "text/html": [
       "<div>\n",
       "<style scoped>\n",
       "    .dataframe tbody tr th:only-of-type {\n",
       "        vertical-align: middle;\n",
       "    }\n",
       "\n",
       "    .dataframe tbody tr th {\n",
       "        vertical-align: top;\n",
       "    }\n",
       "\n",
       "    .dataframe thead th {\n",
       "        text-align: right;\n",
       "    }\n",
       "</style>\n",
       "<table border=\"1\" class=\"dataframe\">\n",
       "  <thead>\n",
       "    <tr style=\"text-align: right;\">\n",
       "      <th></th>\n",
       "      <th>uniq_id</th>\n",
       "      <th>crawl_timestamp</th>\n",
       "      <th>product_url</th>\n",
       "      <th>product_name</th>\n",
       "      <th>product_category_tree</th>\n",
       "      <th>pid</th>\n",
       "      <th>retail_price</th>\n",
       "      <th>discounted_price</th>\n",
       "      <th>image</th>\n",
       "      <th>is_FK_Advantage_product</th>\n",
       "      <th>description</th>\n",
       "      <th>product_rating</th>\n",
       "      <th>overall_rating</th>\n",
       "      <th>brand</th>\n",
       "      <th>product_specifications</th>\n",
       "    </tr>\n",
       "  </thead>\n",
       "  <tbody>\n",
       "    <tr>\n",
       "      <th>0</th>\n",
       "      <td>c2d766ca982eca8304150849735ffef9</td>\n",
       "      <td>2016-03-25 22:59:23 +0000</td>\n",
       "      <td>http://www.flipkart.com/alisha-solid-women-s-c...</td>\n",
       "      <td>Alisha Solid Women's Cycling Shorts</td>\n",
       "      <td>Clothing</td>\n",
       "      <td>SRTEH2FF9KEDEFGF</td>\n",
       "      <td>999.0</td>\n",
       "      <td>379.0</td>\n",
       "      <td>[\"http://img5a.flixcart.com/image/short/u/4/a/...</td>\n",
       "      <td>False</td>\n",
       "      <td>Key Features of Alisha Solid Women's Cycling S...</td>\n",
       "      <td>No rating available</td>\n",
       "      <td>No rating available</td>\n",
       "      <td>Alisha</td>\n",
       "      <td>{\"product_specification\"=&gt;[{\"key\"=&gt;\"Number of ...</td>\n",
       "    </tr>\n",
       "    <tr>\n",
       "      <th>1</th>\n",
       "      <td>f449ec65dcbc041b6ae5e6a32717d01b</td>\n",
       "      <td>2016-03-25 22:59:23 +0000</td>\n",
       "      <td>http://www.flipkart.com/aw-bellies/p/itmeh4grg...</td>\n",
       "      <td>AW Bellies</td>\n",
       "      <td>Footwear</td>\n",
       "      <td>SHOEH4GRSUBJGZXE</td>\n",
       "      <td>999.0</td>\n",
       "      <td>499.0</td>\n",
       "      <td>[\"http://img5a.flixcart.com/image/shoe/7/z/z/r...</td>\n",
       "      <td>False</td>\n",
       "      <td>Key Features of AW Bellies Sandals Wedges Heel...</td>\n",
       "      <td>No rating available</td>\n",
       "      <td>No rating available</td>\n",
       "      <td>AW</td>\n",
       "      <td>{\"product_specification\"=&gt;[{\"key\"=&gt;\"Ideal For\"...</td>\n",
       "    </tr>\n",
       "  </tbody>\n",
       "</table>\n",
       "</div>"
      ],
      "text/plain": [
       "                            uniq_id            crawl_timestamp  \\\n",
       "0  c2d766ca982eca8304150849735ffef9  2016-03-25 22:59:23 +0000   \n",
       "1  f449ec65dcbc041b6ae5e6a32717d01b  2016-03-25 22:59:23 +0000   \n",
       "\n",
       "                                         product_url  \\\n",
       "0  http://www.flipkart.com/alisha-solid-women-s-c...   \n",
       "1  http://www.flipkart.com/aw-bellies/p/itmeh4grg...   \n",
       "\n",
       "                          product_name product_category_tree  \\\n",
       "0  Alisha Solid Women's Cycling Shorts             Clothing    \n",
       "1                           AW Bellies             Footwear    \n",
       "\n",
       "                pid  retail_price  discounted_price  \\\n",
       "0  SRTEH2FF9KEDEFGF         999.0             379.0   \n",
       "1  SHOEH4GRSUBJGZXE         999.0             499.0   \n",
       "\n",
       "                                               image  is_FK_Advantage_product  \\\n",
       "0  [\"http://img5a.flixcart.com/image/short/u/4/a/...                    False   \n",
       "1  [\"http://img5a.flixcart.com/image/shoe/7/z/z/r...                    False   \n",
       "\n",
       "                                         description       product_rating  \\\n",
       "0  Key Features of Alisha Solid Women's Cycling S...  No rating available   \n",
       "1  Key Features of AW Bellies Sandals Wedges Heel...  No rating available   \n",
       "\n",
       "        overall_rating   brand  \\\n",
       "0  No rating available  Alisha   \n",
       "1  No rating available      AW   \n",
       "\n",
       "                              product_specifications  \n",
       "0  {\"product_specification\"=>[{\"key\"=>\"Number of ...  \n",
       "1  {\"product_specification\"=>[{\"key\"=>\"Ideal For\"...  "
      ]
     },
     "execution_count": 152,
     "metadata": {},
     "output_type": "execute_result"
    }
   ],
   "source": [
    "outlier=ecom_data.select_dtypes(exclude=['object','bool']).columns\n",
    "Q1=ecom_data[outlier].quantile(0.25)\n",
    "Q3=ecom_data[outlier].quantile(0.75)\n",
    "IQR=Q3-Q1\n",
    "lower_limit = Q1-1.5*IQR\n",
    "upper_limit = Q3+1.5*IQR\n",
    "\n",
    "ecom = ecom_data[~((ecom_data[outlier]<lower_limit) | (ecom_data[outlier]>upper_limit)).any(axis = 1)]\n",
    "ecom.head(2)"
   ]
  },
  {
   "cell_type": "markdown",
   "id": "c1412d00-4cad-4c7e-a7a7-03e4c18ebcd7",
   "metadata": {},
   "source": [
    "#### Outliers Removed from the Data"
   ]
  },
  {
   "cell_type": "code",
   "execution_count": 153,
   "id": "841211f7-17d2-4a62-b59a-9a86fb47d525",
   "metadata": {},
   "outputs": [
    {
     "data": {
      "text/plain": [
       "(retail_price        1276.0\n",
       " discounted_price     650.0\n",
       " dtype: float64,\n",
       " retail_price       -1219.0\n",
       " discounted_price    -626.0\n",
       " dtype: float64,\n",
       " retail_price        3885.0\n",
       " discounted_price    1974.0\n",
       " dtype: float64)"
      ]
     },
     "execution_count": 153,
     "metadata": {},
     "output_type": "execute_result"
    }
   ],
   "source": [
    "IQR,lower_limit, upper_limit"
   ]
  },
  {
   "cell_type": "code",
   "execution_count": 154,
   "id": "2b06a059-10fe-45ed-8722-f029e88ea050",
   "metadata": {},
   "outputs": [
    {
     "data": {
      "text/plain": [
       "<Axes: >"
      ]
     },
     "execution_count": 154,
     "metadata": {},
     "output_type": "execute_result"
    },
    {
     "data": {
      "image/png": "[encoded data removed]",
      "text/plain": [
       "<Figure size 640x480 with 1 Axes>"
      ]
     },
     "metadata": {},
     "output_type": "display_data"
    }
   ],
   "source": [
    "sns.boxenplot(ecom['retail_price'])"
   ]
  },
  {
   "cell_type": "markdown",
   "id": "463c3dda-2404-4b91-acf1-213d2ffc243d",
   "metadata": {},
   "source": [
    "#### Necessary Transformations done Now we can use this Data for DATA ANALYSIS"
   ]
  },
  {
   "cell_type": "markdown",
   "id": "9feca2a5-32eb-449e-9623-47eb38bab4d0",
   "metadata": {},
   "source": [
    "## Exploratory Data Analysis"
   ]
  },
  {
   "cell_type": "markdown",
   "id": "0fc2ba28-d076-466d-b565-dbbf2fb8bb03",
   "metadata": {},
   "source": [
    "### Feature Extraction used to remove Month and Year from crawl_timestamp "
   ]
  },
  {
   "cell_type": "code",
   "execution_count": 155,
   "id": "485ddf96-ab1f-4203-bdd9-3bfe4f322c60",
   "metadata": {},
   "outputs": [
    {
     "name": "stderr",
     "output_type": "stream",
     "text": [
      "C:\\Users\\Tejas Karekar\\AppData\\Local\\Temp\\ipykernel_12024\\2795653050.py:1: SettingWithCopyWarning: \n",
      "A value is trying to be set on a copy of a slice from a DataFrame.\n",
      "Try using .loc[row_indexer,col_indexer] = value instead\n",
      "\n",
      "See the caveats in the documentation: https://pandas.pydata.org/pandas-docs/stable/user_guide/indexing.html#returning-a-view-versus-a-copy\n",
      "  ecom['crawl_timestamp'] = pd.to_datetime(ecom['crawl_timestamp'])\n"
     ]
    },
    {
     "data": {
      "text/plain": [
       "0       2016-03-25 22:59:23+00:00\n",
       "1       2016-03-25 22:59:23+00:00\n",
       "2       2016-03-25 22:59:23+00:00\n",
       "3       2016-03-25 22:59:23+00:00\n",
       "4       2016-03-25 22:59:23+00:00\n",
       "                   ...           \n",
       "14994   2015-12-20 08:26:17+00:00\n",
       "14995   2015-12-20 08:26:17+00:00\n",
       "14996   2015-12-20 08:26:17+00:00\n",
       "14997   2015-12-20 08:26:17+00:00\n",
       "14998   2015-12-20 08:26:17+00:00\n",
       "Name: crawl_timestamp, Length: 13053, dtype: datetime64[ns, UTC]"
      ]
     },
     "execution_count": 155,
     "metadata": {},
     "output_type": "execute_result"
    }
   ],
   "source": [
    "ecom['crawl_timestamp'] = pd.to_datetime(ecom['crawl_timestamp'])\n",
    "ecom['crawl_timestamp']"
   ]
  },
  {
   "cell_type": "code",
   "execution_count": 156,
   "id": "b362ffcb-8fc7-46c2-b6ee-af68a3859000",
   "metadata": {},
   "outputs": [
    {
     "name": "stderr",
     "output_type": "stream",
     "text": [
      "C:\\Users\\Tejas Karekar\\AppData\\Local\\Temp\\ipykernel_12024\\512139121.py:1: SettingWithCopyWarning: \n",
      "A value is trying to be set on a copy of a slice from a DataFrame.\n",
      "Try using .loc[row_indexer,col_indexer] = value instead\n",
      "\n",
      "See the caveats in the documentation: https://pandas.pydata.org/pandas-docs/stable/user_guide/indexing.html#returning-a-view-versus-a-copy\n",
      "  ecom['year'] = ecom['crawl_timestamp'].dt.year\n",
      "C:\\Users\\Tejas Karekar\\AppData\\Local\\Temp\\ipykernel_12024\\512139121.py:2: SettingWithCopyWarning: \n",
      "A value is trying to be set on a copy of a slice from a DataFrame.\n",
      "Try using .loc[row_indexer,col_indexer] = value instead\n",
      "\n",
      "See the caveats in the documentation: https://pandas.pydata.org/pandas-docs/stable/user_guide/indexing.html#returning-a-view-versus-a-copy\n",
      "  ecom['month'] = ecom['crawl_timestamp'].dt.month\n"
     ]
    },
    {
     "data": {
      "text/html": [
       "<div>\n",
       "<style scoped>\n",
       "    .dataframe tbody tr th:only-of-type {\n",
       "        vertical-align: middle;\n",
       "    }\n",
       "\n",
       "    .dataframe tbody tr th {\n",
       "        vertical-align: top;\n",
       "    }\n",
       "\n",
       "    .dataframe thead th {\n",
       "        text-align: right;\n",
       "    }\n",
       "</style>\n",
       "<table border=\"1\" class=\"dataframe\">\n",
       "  <thead>\n",
       "    <tr style=\"text-align: right;\">\n",
       "      <th></th>\n",
       "      <th>uniq_id</th>\n",
       "      <th>crawl_timestamp</th>\n",
       "      <th>product_url</th>\n",
       "      <th>product_name</th>\n",
       "      <th>product_category_tree</th>\n",
       "      <th>pid</th>\n",
       "      <th>retail_price</th>\n",
       "      <th>discounted_price</th>\n",
       "      <th>image</th>\n",
       "      <th>is_FK_Advantage_product</th>\n",
       "      <th>description</th>\n",
       "      <th>product_rating</th>\n",
       "      <th>overall_rating</th>\n",
       "      <th>brand</th>\n",
       "      <th>product_specifications</th>\n",
       "      <th>year</th>\n",
       "      <th>month</th>\n",
       "    </tr>\n",
       "  </thead>\n",
       "  <tbody>\n",
       "    <tr>\n",
       "      <th>0</th>\n",
       "      <td>c2d766ca982eca8304150849735ffef9</td>\n",
       "      <td>2016-03-25 22:59:23+00:00</td>\n",
       "      <td>http://www.flipkart.com/alisha-solid-women-s-c...</td>\n",
       "      <td>Alisha Solid Women's Cycling Shorts</td>\n",
       "      <td>Clothing</td>\n",
       "      <td>SRTEH2FF9KEDEFGF</td>\n",
       "      <td>999.0</td>\n",
       "      <td>379.0</td>\n",
       "      <td>[\"http://img5a.flixcart.com/image/short/u/4/a/...</td>\n",
       "      <td>False</td>\n",
       "      <td>Key Features of Alisha Solid Women's Cycling S...</td>\n",
       "      <td>No rating available</td>\n",
       "      <td>No rating available</td>\n",
       "      <td>Alisha</td>\n",
       "      <td>{\"product_specification\"=&gt;[{\"key\"=&gt;\"Number of ...</td>\n",
       "      <td>2016</td>\n",
       "      <td>3</td>\n",
       "    </tr>\n",
       "    <tr>\n",
       "      <th>1</th>\n",
       "      <td>f449ec65dcbc041b6ae5e6a32717d01b</td>\n",
       "      <td>2016-03-25 22:59:23+00:00</td>\n",
       "      <td>http://www.flipkart.com/aw-bellies/p/itmeh4grg...</td>\n",
       "      <td>AW Bellies</td>\n",
       "      <td>Footwear</td>\n",
       "      <td>SHOEH4GRSUBJGZXE</td>\n",
       "      <td>999.0</td>\n",
       "      <td>499.0</td>\n",
       "      <td>[\"http://img5a.flixcart.com/image/shoe/7/z/z/r...</td>\n",
       "      <td>False</td>\n",
       "      <td>Key Features of AW Bellies Sandals Wedges Heel...</td>\n",
       "      <td>No rating available</td>\n",
       "      <td>No rating available</td>\n",
       "      <td>AW</td>\n",
       "      <td>{\"product_specification\"=&gt;[{\"key\"=&gt;\"Ideal For\"...</td>\n",
       "      <td>2016</td>\n",
       "      <td>3</td>\n",
       "    </tr>\n",
       "    <tr>\n",
       "      <th>2</th>\n",
       "      <td>0973b37acd0c664e3de26e97e5571454</td>\n",
       "      <td>2016-03-25 22:59:23+00:00</td>\n",
       "      <td>http://www.flipkart.com/alisha-solid-women-s-c...</td>\n",
       "      <td>Alisha Solid Women's Cycling Shorts</td>\n",
       "      <td>Clothing</td>\n",
       "      <td>SRTEH2F6HUZMQ6SJ</td>\n",
       "      <td>699.0</td>\n",
       "      <td>267.0</td>\n",
       "      <td>[\"http://img5a.flixcart.com/image/short/6/2/h/...</td>\n",
       "      <td>False</td>\n",
       "      <td>Key Features of Alisha Solid Women's Cycling S...</td>\n",
       "      <td>No rating available</td>\n",
       "      <td>No rating available</td>\n",
       "      <td>Alisha</td>\n",
       "      <td>{\"product_specification\"=&gt;[{\"key\"=&gt;\"Number of ...</td>\n",
       "      <td>2016</td>\n",
       "      <td>3</td>\n",
       "    </tr>\n",
       "    <tr>\n",
       "      <th>3</th>\n",
       "      <td>ce5a6818f7707e2cb61fdcdbba61f5ad</td>\n",
       "      <td>2016-03-25 22:59:23+00:00</td>\n",
       "      <td>http://www.flipkart.com/alisha-solid-women-s-c...</td>\n",
       "      <td>Alisha Solid Women's Cycling Shorts</td>\n",
       "      <td>Clothing</td>\n",
       "      <td>SRTEH2FVVKRBAXHB</td>\n",
       "      <td>1199.0</td>\n",
       "      <td>479.0</td>\n",
       "      <td>[\"http://img6a.flixcart.com/image/short/p/j/z/...</td>\n",
       "      <td>False</td>\n",
       "      <td>Key Features of Alisha Solid Women's Cycling S...</td>\n",
       "      <td>No rating available</td>\n",
       "      <td>No rating available</td>\n",
       "      <td>Alisha</td>\n",
       "      <td>{\"product_specification\"=&gt;[{\"key\"=&gt;\"Number of ...</td>\n",
       "      <td>2016</td>\n",
       "      <td>3</td>\n",
       "    </tr>\n",
       "    <tr>\n",
       "      <th>4</th>\n",
       "      <td>29c8d290caa451f97b1c32df64477a2c</td>\n",
       "      <td>2016-03-25 22:59:23+00:00</td>\n",
       "      <td>http://www.flipkart.com/dilli-bazaaar-bellies-...</td>\n",
       "      <td>dilli bazaaar Bellies, Corporate Casuals, Casuals</td>\n",
       "      <td>Footwear</td>\n",
       "      <td>SHOEH3DZBFR88SCK</td>\n",
       "      <td>699.0</td>\n",
       "      <td>349.0</td>\n",
       "      <td>[\"http://img6a.flixcart.com/image/shoe/b/p/n/p...</td>\n",
       "      <td>False</td>\n",
       "      <td>Key Features of dilli bazaaar Bellies, Corpora...</td>\n",
       "      <td>No rating available</td>\n",
       "      <td>No rating available</td>\n",
       "      <td>dilli bazaaar</td>\n",
       "      <td>{\"product_specification\"=&gt;[{\"key\"=&gt;\"Occasion\",...</td>\n",
       "      <td>2016</td>\n",
       "      <td>3</td>\n",
       "    </tr>\n",
       "  </tbody>\n",
       "</table>\n",
       "</div>"
      ],
      "text/plain": [
       "                            uniq_id           crawl_timestamp  \\\n",
       "0  c2d766ca982eca8304150849735ffef9 2016-03-25 22:59:23+00:00   \n",
       "1  f449ec65dcbc041b6ae5e6a32717d01b 2016-03-25 22:59:23+00:00   \n",
       "2  0973b37acd0c664e3de26e97e5571454 2016-03-25 22:59:23+00:00   \n",
       "3  ce5a6818f7707e2cb61fdcdbba61f5ad 2016-03-25 22:59:23+00:00   \n",
       "4  29c8d290caa451f97b1c32df64477a2c 2016-03-25 22:59:23+00:00   \n",
       "\n",
       "                                         product_url  \\\n",
       "0  http://www.flipkart.com/alisha-solid-women-s-c...   \n",
       "1  http://www.flipkart.com/aw-bellies/p/itmeh4grg...   \n",
       "2  http://www.flipkart.com/alisha-solid-women-s-c...   \n",
       "3  http://www.flipkart.com/alisha-solid-women-s-c...   \n",
       "4  http://www.flipkart.com/dilli-bazaaar-bellies-...   \n",
       "\n",
       "                                        product_name product_category_tree  \\\n",
       "0                Alisha Solid Women's Cycling Shorts             Clothing    \n",
       "1                                         AW Bellies             Footwear    \n",
       "2                Alisha Solid Women's Cycling Shorts             Clothing    \n",
       "3                Alisha Solid Women's Cycling Shorts             Clothing    \n",
       "4  dilli bazaaar Bellies, Corporate Casuals, Casuals             Footwear    \n",
       "\n",
       "                pid  retail_price  discounted_price  \\\n",
       "0  SRTEH2FF9KEDEFGF         999.0             379.0   \n",
       "1  SHOEH4GRSUBJGZXE         999.0             499.0   \n",
       "2  SRTEH2F6HUZMQ6SJ         699.0             267.0   \n",
       "3  SRTEH2FVVKRBAXHB        1199.0             479.0   \n",
       "4  SHOEH3DZBFR88SCK         699.0             349.0   \n",
       "\n",
       "                                               image  is_FK_Advantage_product  \\\n",
       "0  [\"http://img5a.flixcart.com/image/short/u/4/a/...                    False   \n",
       "1  [\"http://img5a.flixcart.com/image/shoe/7/z/z/r...                    False   \n",
       "2  [\"http://img5a.flixcart.com/image/short/6/2/h/...                    False   \n",
       "3  [\"http://img6a.flixcart.com/image/short/p/j/z/...                    False   \n",
       "4  [\"http://img6a.flixcart.com/image/shoe/b/p/n/p...                    False   \n",
       "\n",
       "                                         description       product_rating  \\\n",
       "0  Key Features of Alisha Solid Women's Cycling S...  No rating available   \n",
       "1  Key Features of AW Bellies Sandals Wedges Heel...  No rating available   \n",
       "2  Key Features of Alisha Solid Women's Cycling S...  No rating available   \n",
       "3  Key Features of Alisha Solid Women's Cycling S...  No rating available   \n",
       "4  Key Features of dilli bazaaar Bellies, Corpora...  No rating available   \n",
       "\n",
       "        overall_rating          brand  \\\n",
       "0  No rating available         Alisha   \n",
       "1  No rating available             AW   \n",
       "2  No rating available         Alisha   \n",
       "3  No rating available         Alisha   \n",
       "4  No rating available  dilli bazaaar   \n",
       "\n",
       "                              product_specifications  year  month  \n",
       "0  {\"product_specification\"=>[{\"key\"=>\"Number of ...  2016      3  \n",
       "1  {\"product_specification\"=>[{\"key\"=>\"Ideal For\"...  2016      3  \n",
       "2  {\"product_specification\"=>[{\"key\"=>\"Number of ...  2016      3  \n",
       "3  {\"product_specification\"=>[{\"key\"=>\"Number of ...  2016      3  \n",
       "4  {\"product_specification\"=>[{\"key\"=>\"Occasion\",...  2016      3  "
      ]
     },
     "execution_count": 156,
     "metadata": {},
     "output_type": "execute_result"
    }
   ],
   "source": [
    "ecom['year'] = ecom['crawl_timestamp'].dt.year\n",
    "ecom['month'] = ecom['crawl_timestamp'].dt.month\n",
    "ecom.head()"
   ]
  },
  {
   "cell_type": "code",
   "execution_count": 157,
   "id": "f2071bbc-e675-4f10-b6c1-ea174a5cba5c",
   "metadata": {},
   "outputs": [
    {
     "data": {
      "text/html": [
       "<div>\n",
       "<style scoped>\n",
       "    .dataframe tbody tr th:only-of-type {\n",
       "        vertical-align: middle;\n",
       "    }\n",
       "\n",
       "    .dataframe tbody tr th {\n",
       "        vertical-align: top;\n",
       "    }\n",
       "\n",
       "    .dataframe thead th {\n",
       "        text-align: right;\n",
       "    }\n",
       "</style>\n",
       "<table border=\"1\" class=\"dataframe\">\n",
       "  <thead>\n",
       "    <tr style=\"text-align: right;\">\n",
       "      <th></th>\n",
       "      <th>year</th>\n",
       "      <th>month</th>\n",
       "    </tr>\n",
       "  </thead>\n",
       "  <tbody>\n",
       "    <tr>\n",
       "      <th>0</th>\n",
       "      <td>2016</td>\n",
       "      <td>3</td>\n",
       "    </tr>\n",
       "    <tr>\n",
       "      <th>1</th>\n",
       "      <td>2016</td>\n",
       "      <td>3</td>\n",
       "    </tr>\n",
       "    <tr>\n",
       "      <th>2</th>\n",
       "      <td>2016</td>\n",
       "      <td>3</td>\n",
       "    </tr>\n",
       "    <tr>\n",
       "      <th>3</th>\n",
       "      <td>2016</td>\n",
       "      <td>3</td>\n",
       "    </tr>\n",
       "    <tr>\n",
       "      <th>4</th>\n",
       "      <td>2016</td>\n",
       "      <td>3</td>\n",
       "    </tr>\n",
       "  </tbody>\n",
       "</table>\n",
       "</div>"
      ],
      "text/plain": [
       "   year  month\n",
       "0  2016      3\n",
       "1  2016      3\n",
       "2  2016      3\n",
       "3  2016      3\n",
       "4  2016      3"
      ]
     },
     "execution_count": 157,
     "metadata": {},
     "output_type": "execute_result"
    }
   ],
   "source": [
    "ecom[['year','month']].head()"
   ]
  },
  {
   "cell_type": "markdown",
   "id": "c19e15ca-f1e2-4433-a214-01c9f8988ffd",
   "metadata": {},
   "source": [
    "## Data Analysis"
   ]
  },
  {
   "cell_type": "code",
   "execution_count": 158,
   "id": "86a49092-a64b-4332-bdbc-f20efe9f28d5",
   "metadata": {},
   "outputs": [
    {
     "data": {
      "text/plain": [
       "<function matplotlib.pyplot.show(close=None, block=None)>"
      ]
     },
     "execution_count": 158,
     "metadata": {},
     "output_type": "execute_result"
    },
    {
     "data": {
      "image/png": "[encoded data removed]",
      "text/plain": [
       "<Figure size 1500x500 with 1 Axes>"
      ]
     },
     "metadata": {},
     "output_type": "display_data"
    }
   ],
   "source": [
    "plt.figure(figsize=(15,5))\n",
    "sns.barplot(data = ecom_data, x = 'retail_price', y = 'product_category_tree' )\n",
    "plt.show"
   ]
  },
  {
   "cell_type": "markdown",
   "id": "e9e5c568-cd71-42db-a4e2-1e79e78aff10",
   "metadata": {},
   "source": [
    "#### Jewellery has the Maximum selling price on the Ecommerce Website"
   ]
  },
  {
   "cell_type": "code",
   "execution_count": 159,
   "id": "490fd6dc-e2bc-44e6-8173-b9c6a7f67189",
   "metadata": {},
   "outputs": [
    {
     "data": {
      "image/png": "[encoded data removed]",
      "text/plain": [
       "<Figure size 3200x500 with 1 Axes>"
      ]
     },
     "metadata": {},
     "output_type": "display_data"
    }
   ],
   "source": [
    "plt.figure(figsize=(32,5))\n",
    "sns.countplot(data = ecom,x='product_category_tree')\n",
    "plt.show()"
   ]
  },
  {
   "cell_type": "markdown",
   "id": "1e78e759-bf3c-48b3-868f-96d8c22eedb5",
   "metadata": {},
   "source": [
    "#### Clothing has been the most selling product on Ecommerce Website\n",
    "#### Bags,wallet & Belt has been the least selling product on Ecomerce Website"
   ]
  },
  {
   "cell_type": "code",
   "execution_count": 160,
   "id": "59ca4992-4d3a-49eb-9678-1c43f8710dff",
   "metadata": {},
   "outputs": [
    {
     "data": {
      "text/plain": [
       "<function matplotlib.pyplot.show(close=None, block=None)>"
      ]
     },
     "execution_count": 160,
     "metadata": {},
     "output_type": "execute_result"
    },
    {
     "data": {
      "image/png": "[encoded data removed]",
      "text/plain": [
       "<Figure size 1500x500 with 1 Axes>"
      ]
     },
     "metadata": {},
     "output_type": "display_data"
    }
   ],
   "source": [
    "plt.figure(figsize=(15,5))\n",
    "sns.barplot(data = ecom_data, x = 'discounted_price',y = 'product_category_tree' )\n",
    "plt.show"
   ]
  },
  {
   "cell_type": "markdown",
   "id": "4eb7fd71-0db5-4bca-bfdd-f11b2e1439ab",
   "metadata": {},
   "source": [
    "#### Most discounted product was Jewellery"
   ]
  },
  {
   "cell_type": "code",
   "execution_count": 161,
   "id": "3461da26-2bb3-4034-896d-bf9fb80196e0",
   "metadata": {},
   "outputs": [
    {
     "data": {
      "text/plain": [
       "<function matplotlib.pyplot.show(close=None, block=None)>"
      ]
     },
     "execution_count": 161,
     "metadata": {},
     "output_type": "execute_result"
    },
    {
     "data": {
      "image/png": "[encoded data removed]",
      "text/plain": [
       "<Figure size 1500x500 with 1 Axes>"
      ]
     },
     "metadata": {},
     "output_type": "display_data"
    }
   ],
   "source": [
    "plt.figure(figsize=(15,5))\n",
    "sns.barplot(data = ecom, x = 'month', y = 'retail_price',hue='year')\n",
    "plt.show"
   ]
  },
  {
   "cell_type": "markdown",
   "id": "cf9c04ae-68a3-4510-b394-7db2159b2565",
   "metadata": {},
   "source": [
    "### Feb 2016 was the least performing month which affected the overall sales in the year 2016"
   ]
  },
  {
   "cell_type": "markdown",
   "id": "eb953ee7-a2af-4c81-a4de-b35f693e950d",
   "metadata": {},
   "source": [
    "# Word Embedding (Encoding)"
   ]
  },
  {
   "cell_type": "code",
   "execution_count": 162,
   "id": "5619bee1-f4f1-4758-9a8b-d8d84c3ef152",
   "metadata": {},
   "outputs": [
    {
     "name": "stderr",
     "output_type": "stream",
     "text": [
      "C:\\Users\\Tejas Karekar\\AppData\\Local\\Temp\\ipykernel_12024\\1853558700.py:3: SettingWithCopyWarning: \n",
      "A value is trying to be set on a copy of a slice from a DataFrame.\n",
      "Try using .loc[row_indexer,col_indexer] = value instead\n",
      "\n",
      "See the caveats in the documentation: https://pandas.pydata.org/pandas-docs/stable/user_guide/indexing.html#returning-a-view-versus-a-copy\n",
      "  ecom[i]= ecom[i].astype('category')\n",
      "C:\\Users\\Tejas Karekar\\AppData\\Local\\Temp\\ipykernel_12024\\1853558700.py:4: SettingWithCopyWarning: \n",
      "A value is trying to be set on a copy of a slice from a DataFrame.\n",
      "Try using .loc[row_indexer,col_indexer] = value instead\n",
      "\n",
      "See the caveats in the documentation: https://pandas.pydata.org/pandas-docs/stable/user_guide/indexing.html#returning-a-view-versus-a-copy\n",
      "  ecom[i]= ecom[i].cat.codes\n",
      "C:\\Users\\Tejas Karekar\\AppData\\Local\\Temp\\ipykernel_12024\\1853558700.py:3: SettingWithCopyWarning: \n",
      "A value is trying to be set on a copy of a slice from a DataFrame.\n",
      "Try using .loc[row_indexer,col_indexer] = value instead\n",
      "\n",
      "See the caveats in the documentation: https://pandas.pydata.org/pandas-docs/stable/user_guide/indexing.html#returning-a-view-versus-a-copy\n",
      "  ecom[i]= ecom[i].astype('category')\n",
      "C:\\Users\\Tejas Karekar\\AppData\\Local\\Temp\\ipykernel_12024\\1853558700.py:4: SettingWithCopyWarning: \n",
      "A value is trying to be set on a copy of a slice from a DataFrame.\n",
      "Try using .loc[row_indexer,col_indexer] = value instead\n",
      "\n",
      "See the caveats in the documentation: https://pandas.pydata.org/pandas-docs/stable/user_guide/indexing.html#returning-a-view-versus-a-copy\n",
      "  ecom[i]= ecom[i].cat.codes\n",
      "C:\\Users\\Tejas Karekar\\AppData\\Local\\Temp\\ipykernel_12024\\1853558700.py:3: SettingWithCopyWarning: \n",
      "A value is trying to be set on a copy of a slice from a DataFrame.\n",
      "Try using .loc[row_indexer,col_indexer] = value instead\n",
      "\n",
      "See the caveats in the documentation: https://pandas.pydata.org/pandas-docs/stable/user_guide/indexing.html#returning-a-view-versus-a-copy\n",
      "  ecom[i]= ecom[i].astype('category')\n",
      "C:\\Users\\Tejas Karekar\\AppData\\Local\\Temp\\ipykernel_12024\\1853558700.py:4: SettingWithCopyWarning: \n",
      "A value is trying to be set on a copy of a slice from a DataFrame.\n",
      "Try using .loc[row_indexer,col_indexer] = value instead\n",
      "\n",
      "See the caveats in the documentation: https://pandas.pydata.org/pandas-docs/stable/user_guide/indexing.html#returning-a-view-versus-a-copy\n",
      "  ecom[i]= ecom[i].cat.codes\n",
      "C:\\Users\\Tejas Karekar\\AppData\\Local\\Temp\\ipykernel_12024\\1853558700.py:3: SettingWithCopyWarning: \n",
      "A value is trying to be set on a copy of a slice from a DataFrame.\n",
      "Try using .loc[row_indexer,col_indexer] = value instead\n",
      "\n",
      "See the caveats in the documentation: https://pandas.pydata.org/pandas-docs/stable/user_guide/indexing.html#returning-a-view-versus-a-copy\n",
      "  ecom[i]= ecom[i].astype('category')\n",
      "C:\\Users\\Tejas Karekar\\AppData\\Local\\Temp\\ipykernel_12024\\1853558700.py:4: SettingWithCopyWarning: \n",
      "A value is trying to be set on a copy of a slice from a DataFrame.\n",
      "Try using .loc[row_indexer,col_indexer] = value instead\n",
      "\n",
      "See the caveats in the documentation: https://pandas.pydata.org/pandas-docs/stable/user_guide/indexing.html#returning-a-view-versus-a-copy\n",
      "  ecom[i]= ecom[i].cat.codes\n",
      "C:\\Users\\Tejas Karekar\\AppData\\Local\\Temp\\ipykernel_12024\\1853558700.py:3: SettingWithCopyWarning: \n",
      "A value is trying to be set on a copy of a slice from a DataFrame.\n",
      "Try using .loc[row_indexer,col_indexer] = value instead\n",
      "\n",
      "See the caveats in the documentation: https://pandas.pydata.org/pandas-docs/stable/user_guide/indexing.html#returning-a-view-versus-a-copy\n",
      "  ecom[i]= ecom[i].astype('category')\n",
      "C:\\Users\\Tejas Karekar\\AppData\\Local\\Temp\\ipykernel_12024\\1853558700.py:4: SettingWithCopyWarning: \n",
      "A value is trying to be set on a copy of a slice from a DataFrame.\n",
      "Try using .loc[row_indexer,col_indexer] = value instead\n",
      "\n",
      "See the caveats in the documentation: https://pandas.pydata.org/pandas-docs/stable/user_guide/indexing.html#returning-a-view-versus-a-copy\n",
      "  ecom[i]= ecom[i].cat.codes\n",
      "C:\\Users\\Tejas Karekar\\AppData\\Local\\Temp\\ipykernel_12024\\1853558700.py:3: SettingWithCopyWarning: \n",
      "A value is trying to be set on a copy of a slice from a DataFrame.\n",
      "Try using .loc[row_indexer,col_indexer] = value instead\n",
      "\n",
      "See the caveats in the documentation: https://pandas.pydata.org/pandas-docs/stable/user_guide/indexing.html#returning-a-view-versus-a-copy\n",
      "  ecom[i]= ecom[i].astype('category')\n",
      "C:\\Users\\Tejas Karekar\\AppData\\Local\\Temp\\ipykernel_12024\\1853558700.py:4: SettingWithCopyWarning: \n",
      "A value is trying to be set on a copy of a slice from a DataFrame.\n",
      "Try using .loc[row_indexer,col_indexer] = value instead\n",
      "\n",
      "See the caveats in the documentation: https://pandas.pydata.org/pandas-docs/stable/user_guide/indexing.html#returning-a-view-versus-a-copy\n",
      "  ecom[i]= ecom[i].cat.codes\n",
      "C:\\Users\\Tejas Karekar\\AppData\\Local\\Temp\\ipykernel_12024\\1853558700.py:3: SettingWithCopyWarning: \n",
      "A value is trying to be set on a copy of a slice from a DataFrame.\n",
      "Try using .loc[row_indexer,col_indexer] = value instead\n",
      "\n",
      "See the caveats in the documentation: https://pandas.pydata.org/pandas-docs/stable/user_guide/indexing.html#returning-a-view-versus-a-copy\n",
      "  ecom[i]= ecom[i].astype('category')\n",
      "C:\\Users\\Tejas Karekar\\AppData\\Local\\Temp\\ipykernel_12024\\1853558700.py:4: SettingWithCopyWarning: \n",
      "A value is trying to be set on a copy of a slice from a DataFrame.\n",
      "Try using .loc[row_indexer,col_indexer] = value instead\n",
      "\n",
      "See the caveats in the documentation: https://pandas.pydata.org/pandas-docs/stable/user_guide/indexing.html#returning-a-view-versus-a-copy\n",
      "  ecom[i]= ecom[i].cat.codes\n",
      "C:\\Users\\Tejas Karekar\\AppData\\Local\\Temp\\ipykernel_12024\\1853558700.py:3: SettingWithCopyWarning: \n",
      "A value is trying to be set on a copy of a slice from a DataFrame.\n",
      "Try using .loc[row_indexer,col_indexer] = value instead\n",
      "\n",
      "See the caveats in the documentation: https://pandas.pydata.org/pandas-docs/stable/user_guide/indexing.html#returning-a-view-versus-a-copy\n",
      "  ecom[i]= ecom[i].astype('category')\n",
      "C:\\Users\\Tejas Karekar\\AppData\\Local\\Temp\\ipykernel_12024\\1853558700.py:4: SettingWithCopyWarning: \n",
      "A value is trying to be set on a copy of a slice from a DataFrame.\n",
      "Try using .loc[row_indexer,col_indexer] = value instead\n",
      "\n",
      "See the caveats in the documentation: https://pandas.pydata.org/pandas-docs/stable/user_guide/indexing.html#returning-a-view-versus-a-copy\n",
      "  ecom[i]= ecom[i].cat.codes\n",
      "C:\\Users\\Tejas Karekar\\AppData\\Local\\Temp\\ipykernel_12024\\1853558700.py:3: SettingWithCopyWarning: \n",
      "A value is trying to be set on a copy of a slice from a DataFrame.\n",
      "Try using .loc[row_indexer,col_indexer] = value instead\n",
      "\n",
      "See the caveats in the documentation: https://pandas.pydata.org/pandas-docs/stable/user_guide/indexing.html#returning-a-view-versus-a-copy\n",
      "  ecom[i]= ecom[i].astype('category')\n",
      "C:\\Users\\Tejas Karekar\\AppData\\Local\\Temp\\ipykernel_12024\\1853558700.py:4: SettingWithCopyWarning: \n",
      "A value is trying to be set on a copy of a slice from a DataFrame.\n",
      "Try using .loc[row_indexer,col_indexer] = value instead\n",
      "\n",
      "See the caveats in the documentation: https://pandas.pydata.org/pandas-docs/stable/user_guide/indexing.html#returning-a-view-versus-a-copy\n",
      "  ecom[i]= ecom[i].cat.codes\n",
      "C:\\Users\\Tejas Karekar\\AppData\\Local\\Temp\\ipykernel_12024\\1853558700.py:3: SettingWithCopyWarning: \n",
      "A value is trying to be set on a copy of a slice from a DataFrame.\n",
      "Try using .loc[row_indexer,col_indexer] = value instead\n",
      "\n",
      "See the caveats in the documentation: https://pandas.pydata.org/pandas-docs/stable/user_guide/indexing.html#returning-a-view-versus-a-copy\n",
      "  ecom[i]= ecom[i].astype('category')\n",
      "C:\\Users\\Tejas Karekar\\AppData\\Local\\Temp\\ipykernel_12024\\1853558700.py:4: SettingWithCopyWarning: \n",
      "A value is trying to be set on a copy of a slice from a DataFrame.\n",
      "Try using .loc[row_indexer,col_indexer] = value instead\n",
      "\n",
      "See the caveats in the documentation: https://pandas.pydata.org/pandas-docs/stable/user_guide/indexing.html#returning-a-view-versus-a-copy\n",
      "  ecom[i]= ecom[i].cat.codes\n",
      "C:\\Users\\Tejas Karekar\\AppData\\Local\\Temp\\ipykernel_12024\\1853558700.py:3: SettingWithCopyWarning: \n",
      "A value is trying to be set on a copy of a slice from a DataFrame.\n",
      "Try using .loc[row_indexer,col_indexer] = value instead\n",
      "\n",
      "See the caveats in the documentation: https://pandas.pydata.org/pandas-docs/stable/user_guide/indexing.html#returning-a-view-versus-a-copy\n",
      "  ecom[i]= ecom[i].astype('category')\n",
      "C:\\Users\\Tejas Karekar\\AppData\\Local\\Temp\\ipykernel_12024\\1853558700.py:4: SettingWithCopyWarning: \n",
      "A value is trying to be set on a copy of a slice from a DataFrame.\n",
      "Try using .loc[row_indexer,col_indexer] = value instead\n",
      "\n",
      "See the caveats in the documentation: https://pandas.pydata.org/pandas-docs/stable/user_guide/indexing.html#returning-a-view-versus-a-copy\n",
      "  ecom[i]= ecom[i].cat.codes\n"
     ]
    }
   ],
   "source": [
    "encode = ecom.select_dtypes(['object','datetime64[ns, UTC]','bool','float64']).columns\n",
    "for i in encode:\n",
    "    ecom[i]= ecom[i].astype('category')\n",
    "    ecom[i]= ecom[i].cat.codes"
   ]
  },
  {
   "cell_type": "code",
   "execution_count": 163,
   "id": "b82d7cb4-56be-448d-80ff-50f16f9e3348",
   "metadata": {},
   "outputs": [
    {
     "data": {
      "text/html": [
       "<div>\n",
       "<style scoped>\n",
       "    .dataframe tbody tr th:only-of-type {\n",
       "        vertical-align: middle;\n",
       "    }\n",
       "\n",
       "    .dataframe tbody tr th {\n",
       "        vertical-align: top;\n",
       "    }\n",
       "\n",
       "    .dataframe thead th {\n",
       "        text-align: right;\n",
       "    }\n",
       "</style>\n",
       "<table border=\"1\" class=\"dataframe\">\n",
       "  <thead>\n",
       "    <tr style=\"text-align: right;\">\n",
       "      <th></th>\n",
       "      <th>uniq_id</th>\n",
       "      <th>crawl_timestamp</th>\n",
       "      <th>product_url</th>\n",
       "      <th>product_name</th>\n",
       "      <th>product_category_tree</th>\n",
       "      <th>pid</th>\n",
       "      <th>retail_price</th>\n",
       "      <th>discounted_price</th>\n",
       "      <th>image</th>\n",
       "      <th>is_FK_Advantage_product</th>\n",
       "      <th>description</th>\n",
       "      <th>product_rating</th>\n",
       "      <th>overall_rating</th>\n",
       "      <th>brand</th>\n",
       "      <th>product_specifications</th>\n",
       "      <th>year</th>\n",
       "      <th>month</th>\n",
       "    </tr>\n",
       "  </thead>\n",
       "  <tbody>\n",
       "    <tr>\n",
       "      <th>0</th>\n",
       "      <td>10004</td>\n",
       "      <td>86</td>\n",
       "      <td>410</td>\n",
       "      <td>402</td>\n",
       "      <td>3</td>\n",
       "      <td>10016</td>\n",
       "      <td>375</td>\n",
       "      <td>252</td>\n",
       "      <td>4544</td>\n",
       "      <td>0</td>\n",
       "      <td>4787</td>\n",
       "      <td>35</td>\n",
       "      <td>35</td>\n",
       "      <td>103</td>\n",
       "      <td>7267</td>\n",
       "      <td>2016</td>\n",
       "      <td>3</td>\n",
       "    </tr>\n",
       "    <tr>\n",
       "      <th>1</th>\n",
       "      <td>12478</td>\n",
       "      <td>86</td>\n",
       "      <td>957</td>\n",
       "      <td>173</td>\n",
       "      <td>5</td>\n",
       "      <td>8510</td>\n",
       "      <td>375</td>\n",
       "      <td>355</td>\n",
       "      <td>4302</td>\n",
       "      <td>0</td>\n",
       "      <td>4700</td>\n",
       "      <td>35</td>\n",
       "      <td>35</td>\n",
       "      <td>41</td>\n",
       "      <td>5746</td>\n",
       "      <td>2016</td>\n",
       "      <td>3</td>\n",
       "    </tr>\n",
       "    <tr>\n",
       "      <th>2</th>\n",
       "      <td>470</td>\n",
       "      <td>86</td>\n",
       "      <td>407</td>\n",
       "      <td>402</td>\n",
       "      <td>3</td>\n",
       "      <td>10013</td>\n",
       "      <td>252</td>\n",
       "      <td>155</td>\n",
       "      <td>4522</td>\n",
       "      <td>0</td>\n",
       "      <td>4784</td>\n",
       "      <td>35</td>\n",
       "      <td>35</td>\n",
       "      <td>103</td>\n",
       "      <td>7238</td>\n",
       "      <td>2016</td>\n",
       "      <td>3</td>\n",
       "    </tr>\n",
       "    <tr>\n",
       "      <th>3</th>\n",
       "      <td>10560</td>\n",
       "      <td>86</td>\n",
       "      <td>412</td>\n",
       "      <td>402</td>\n",
       "      <td>3</td>\n",
       "      <td>10019</td>\n",
       "      <td>457</td>\n",
       "      <td>337</td>\n",
       "      <td>10693</td>\n",
       "      <td>0</td>\n",
       "      <td>4788</td>\n",
       "      <td>35</td>\n",
       "      <td>35</td>\n",
       "      <td>103</td>\n",
       "      <td>7290</td>\n",
       "      <td>2016</td>\n",
       "      <td>3</td>\n",
       "    </tr>\n",
       "    <tr>\n",
       "      <th>4</th>\n",
       "      <td>2118</td>\n",
       "      <td>86</td>\n",
       "      <td>2399</td>\n",
       "      <td>7680</td>\n",
       "      <td>5</td>\n",
       "      <td>8508</td>\n",
       "      <td>252</td>\n",
       "      <td>226</td>\n",
       "      <td>10485</td>\n",
       "      <td>0</td>\n",
       "      <td>6288</td>\n",
       "      <td>35</td>\n",
       "      <td>35</td>\n",
       "      <td>2007</td>\n",
       "      <td>7672</td>\n",
       "      <td>2016</td>\n",
       "      <td>3</td>\n",
       "    </tr>\n",
       "  </tbody>\n",
       "</table>\n",
       "</div>"
      ],
      "text/plain": [
       "   uniq_id  crawl_timestamp  product_url  product_name  product_category_tree  \\\n",
       "0    10004               86          410           402                      3   \n",
       "1    12478               86          957           173                      5   \n",
       "2      470               86          407           402                      3   \n",
       "3    10560               86          412           402                      3   \n",
       "4     2118               86         2399          7680                      5   \n",
       "\n",
       "     pid  retail_price  discounted_price  image  is_FK_Advantage_product  \\\n",
       "0  10016           375               252   4544                        0   \n",
       "1   8510           375               355   4302                        0   \n",
       "2  10013           252               155   4522                        0   \n",
       "3  10019           457               337  10693                        0   \n",
       "4   8508           252               226  10485                        0   \n",
       "\n",
       "   description  product_rating  overall_rating  brand  product_specifications  \\\n",
       "0         4787              35              35    103                    7267   \n",
       "1         4700              35              35     41                    5746   \n",
       "2         4784              35              35    103                    7238   \n",
       "3         4788              35              35    103                    7290   \n",
       "4         6288              35              35   2007                    7672   \n",
       "\n",
       "   year  month  \n",
       "0  2016      3  \n",
       "1  2016      3  \n",
       "2  2016      3  \n",
       "3  2016      3  \n",
       "4  2016      3  "
      ]
     },
     "execution_count": 163,
     "metadata": {},
     "output_type": "execute_result"
    }
   ],
   "source": [
    "ecom.head()"
   ]
  },
  {
   "cell_type": "code",
   "execution_count": 164,
   "id": "6c0a890c-f8ff-4eb8-80ac-ce8cfb8ff850",
   "metadata": {},
   "outputs": [
    {
     "name": "stdout",
     "output_type": "stream",
     "text": [
      "<class 'pandas.core.frame.DataFrame'>\n",
      "Index: 13053 entries, 0 to 14998\n",
      "Data columns (total 17 columns):\n",
      " #   Column                   Non-Null Count  Dtype\n",
      "---  ------                   --------------  -----\n",
      " 0   uniq_id                  13053 non-null  int16\n",
      " 1   crawl_timestamp          13053 non-null  int16\n",
      " 2   product_url              13053 non-null  int16\n",
      " 3   product_name             13053 non-null  int16\n",
      " 4   product_category_tree    13053 non-null  int8 \n",
      " 5   pid                      13053 non-null  int16\n",
      " 6   retail_price             13053 non-null  int16\n",
      " 7   discounted_price         13053 non-null  int16\n",
      " 8   image                    13053 non-null  int16\n",
      " 9   is_FK_Advantage_product  13053 non-null  int8 \n",
      " 10  description              13053 non-null  int16\n",
      " 11  product_rating           13053 non-null  int8 \n",
      " 12  overall_rating           13053 non-null  int8 \n",
      " 13  brand                    13053 non-null  int16\n",
      " 14  product_specifications   13053 non-null  int16\n",
      " 15  year                     13053 non-null  int32\n",
      " 16  month                    13053 non-null  int32\n",
      "dtypes: int16(11), int32(2), int8(4)\n",
      "memory usage: 1.0 MB\n"
     ]
    }
   ],
   "source": [
    "ecom.info()"
   ]
  },
  {
   "cell_type": "markdown",
   "id": "d1601edf-a32d-47ff-a3a3-56c7ba3cbae6",
   "metadata": {},
   "source": [
    "##  Training Data"
   ]
  },
  {
   "cell_type": "code",
   "execution_count": 165,
   "id": "8604e3aa-f40c-42f0-a8a8-8a213238c15c",
   "metadata": {},
   "outputs": [
    {
     "data": {
      "text/plain": [
       "array([[  402,   375,  4544,  4787,   103,  7267],\n",
       "       [  173,   375,  4302,  4700,    41,  5746],\n",
       "       [  402,   252,  4522,  4784,   103,  7238],\n",
       "       ...,\n",
       "       [ 6646,   742,  1099, 10102,  1739,  3430],\n",
       "       [ 3388,   180,   201,  4643,   935,  4494],\n",
       "       [ 3388,   174,   244,  4641,   935,  4495]], dtype=int16)"
      ]
     },
     "execution_count": 165,
     "metadata": {},
     "output_type": "execute_result"
    }
   ],
   "source": [
    "x_train = ecom.iloc[:,[3,6,8,10,13,14]].values\n",
    "x_train"
   ]
  },
  {
   "cell_type": "code",
   "execution_count": 167,
   "id": "fee2962c-72ca-4124-96ca-3915036d0052",
   "metadata": {},
   "outputs": [
    {
     "data": {
      "text/plain": [
       "array([3, 5, 3, ..., 9, 7, 7], dtype=int8)"
      ]
     },
     "execution_count": 167,
     "metadata": {},
     "output_type": "execute_result"
    }
   ],
   "source": [
    "y_train = ecom.iloc[:,4].values\n",
    "y_train"
   ]
  },
  {
   "cell_type": "code",
   "execution_count": 168,
   "id": "c98d0458-23ed-4898-b65b-bb3f7d762951",
   "metadata": {},
   "outputs": [],
   "source": [
    "from sklearn.linear_model import LinearRegression\n",
    "\n",
    "# Fitting the Model\n",
    "regressor_ini = LinearRegression().fit(x_train,y_train)"
   ]
  },
  {
   "cell_type": "markdown",
   "id": "97d96263-e20f-4a65-9a14-8374f74acc24",
   "metadata": {},
   "source": [
    "# Test Data Cleaning and removing the outlier and Testing the Data"
   ]
  },
  {
   "cell_type": "code",
   "execution_count": 169,
   "id": "c63d7f7e-6eca-45fb-979f-0c6675e1ba41",
   "metadata": {},
   "outputs": [
    {
     "data": {
      "text/html": [
       "<div>\n",
       "<style scoped>\n",
       "    .dataframe tbody tr th:only-of-type {\n",
       "        vertical-align: middle;\n",
       "    }\n",
       "\n",
       "    .dataframe tbody tr th {\n",
       "        vertical-align: top;\n",
       "    }\n",
       "\n",
       "    .dataframe thead th {\n",
       "        text-align: right;\n",
       "    }\n",
       "</style>\n",
       "<table border=\"1\" class=\"dataframe\">\n",
       "  <thead>\n",
       "    <tr style=\"text-align: right;\">\n",
       "      <th></th>\n",
       "      <th>uniq_id</th>\n",
       "      <th>crawl_timestamp</th>\n",
       "      <th>product_url</th>\n",
       "      <th>product_name</th>\n",
       "      <th>product_category_tree</th>\n",
       "      <th>pid</th>\n",
       "      <th>retail_price</th>\n",
       "      <th>discounted_price</th>\n",
       "      <th>image</th>\n",
       "      <th>is_FK_Advantage_product</th>\n",
       "      <th>description</th>\n",
       "      <th>product_rating</th>\n",
       "      <th>overall_rating</th>\n",
       "      <th>brand</th>\n",
       "      <th>product_specifications</th>\n",
       "    </tr>\n",
       "  </thead>\n",
       "  <tbody>\n",
       "    <tr>\n",
       "      <th>0</th>\n",
       "      <td>4fb99d98225f415e7ece96938e95628f</td>\n",
       "      <td>2015-12-20 08:26:17 +0000</td>\n",
       "      <td>http://www.flipkart.com/v-v-art-brass-bracelet...</td>\n",
       "      <td>V&amp;V ART Brass Bracelet</td>\n",
       "      <td>Jewellery</td>\n",
       "      <td>BBAE6NYHCDTEZJTB</td>\n",
       "      <td>470.0</td>\n",
       "      <td>423.0</td>\n",
       "      <td>[\"http://img6a.flixcart.com/image/bangle-brace...</td>\n",
       "      <td>False</td>\n",
       "      <td>V&amp;V ART Brass Bracelet - Buy V&amp;V ART Brass Bra...</td>\n",
       "      <td>No rating available</td>\n",
       "      <td>No rating available</td>\n",
       "      <td>V&amp;V ART</td>\n",
       "      <td>{\"product_specification\"=&gt;[{\"key\"=&gt;\"Brand\", \"v...</td>\n",
       "    </tr>\n",
       "  </tbody>\n",
       "</table>\n",
       "</div>"
      ],
      "text/plain": [
       "                            uniq_id            crawl_timestamp  \\\n",
       "0  4fb99d98225f415e7ece96938e95628f  2015-12-20 08:26:17 +0000   \n",
       "\n",
       "                                         product_url            product_name  \\\n",
       "0  http://www.flipkart.com/v-v-art-brass-bracelet...  V&V ART Brass Bracelet   \n",
       "\n",
       "  product_category_tree               pid  retail_price  discounted_price  \\\n",
       "0             Jewellery  BBAE6NYHCDTEZJTB         470.0             423.0   \n",
       "\n",
       "                                               image  is_FK_Advantage_product  \\\n",
       "0  [\"http://img6a.flixcart.com/image/bangle-brace...                    False   \n",
       "\n",
       "                                         description       product_rating  \\\n",
       "0  V&V ART Brass Bracelet - Buy V&V ART Brass Bra...  No rating available   \n",
       "\n",
       "        overall_rating    brand  \\\n",
       "0  No rating available  V&V ART   \n",
       "\n",
       "                              product_specifications  \n",
       "0  {\"product_specification\"=>[{\"key\"=>\"Brand\", \"v...  "
      ]
     },
     "execution_count": 169,
     "metadata": {},
     "output_type": "execute_result"
    }
   ],
   "source": [
    "ecom_test = pd.read_csv(r\"C:\\Upgrad\\PYTHON week 6, 7 8\\Test_Data.csv\")\n",
    "ecom_test.head(1)"
   ]
  },
  {
   "cell_type": "code",
   "execution_count": 170,
   "id": "66fe202d-233e-4fc0-8f16-074a296134f0",
   "metadata": {},
   "outputs": [
    {
     "data": {
      "text/plain": [
       "uniq_id                      0\n",
       "crawl_timestamp              0\n",
       "product_url                  0\n",
       "product_name                 0\n",
       "product_category_tree        0\n",
       "pid                          0\n",
       "retail_price                 4\n",
       "discounted_price             4\n",
       "image                        0\n",
       "is_FK_Advantage_product      0\n",
       "description                  0\n",
       "product_rating               0\n",
       "overall_rating               0\n",
       "brand                      522\n",
       "product_specifications       5\n",
       "dtype: int64"
      ]
     },
     "execution_count": 170,
     "metadata": {},
     "output_type": "execute_result"
    }
   ],
   "source": [
    "ecom_test.isnull().sum()"
   ]
  },
  {
   "cell_type": "code",
   "execution_count": 171,
   "id": "773d550e-45ca-4538-900a-19d6b6547467",
   "metadata": {},
   "outputs": [],
   "source": [
    "ecom_test.fillna({'retail_price' : 0, 'discounted_price':0,\n",
    "                  'brand': 'Not Mentioned',\n",
    "                  'product_specifications':'Not Given'},inplace=True)"
   ]
  },
  {
   "cell_type": "code",
   "execution_count": 172,
   "id": "1cf6b26e-c276-45f8-9e8f-612755d92156",
   "metadata": {},
   "outputs": [
    {
     "data": {
      "text/plain": [
       "uniq_id                    0\n",
       "crawl_timestamp            0\n",
       "product_url                0\n",
       "product_name               0\n",
       "product_category_tree      0\n",
       "pid                        0\n",
       "retail_price               0\n",
       "discounted_price           0\n",
       "image                      0\n",
       "is_FK_Advantage_product    0\n",
       "description                0\n",
       "product_rating             0\n",
       "overall_rating             0\n",
       "brand                      0\n",
       "product_specifications     0\n",
       "dtype: int64"
      ]
     },
     "execution_count": 172,
     "metadata": {},
     "output_type": "execute_result"
    }
   ],
   "source": [
    "ecom_test.isnull().sum()"
   ]
  },
  {
   "cell_type": "code",
   "execution_count": 173,
   "id": "6883cc64-e5aa-4ae1-9d8c-b829fd3a918e",
   "metadata": {},
   "outputs": [
    {
     "data": {
      "text/plain": [
       "<Axes: >"
      ]
     },
     "execution_count": 173,
     "metadata": {},
     "output_type": "execute_result"
    },
    {
     "data": {
      "image/png": "[encoded data removed]",
      "text/plain": [
       "<Figure size 640x480 with 1 Axes>"
      ]
     },
     "metadata": {},
     "output_type": "display_data"
    }
   ],
   "source": [
    "sns.boxenplot(ecom_test['retail_price'])"
   ]
  },
  {
   "cell_type": "code",
   "execution_count": 174,
   "id": "946d5371-4dd3-4b4b-a186-5df4518e7369",
   "metadata": {},
   "outputs": [
    {
     "data": {
      "text/html": [
       "<div>\n",
       "<style scoped>\n",
       "    .dataframe tbody tr th:only-of-type {\n",
       "        vertical-align: middle;\n",
       "    }\n",
       "\n",
       "    .dataframe tbody tr th {\n",
       "        vertical-align: top;\n",
       "    }\n",
       "\n",
       "    .dataframe thead th {\n",
       "        text-align: right;\n",
       "    }\n",
       "</style>\n",
       "<table border=\"1\" class=\"dataframe\">\n",
       "  <thead>\n",
       "    <tr style=\"text-align: right;\">\n",
       "      <th></th>\n",
       "      <th>uniq_id</th>\n",
       "      <th>crawl_timestamp</th>\n",
       "      <th>product_url</th>\n",
       "      <th>product_name</th>\n",
       "      <th>product_category_tree</th>\n",
       "      <th>pid</th>\n",
       "      <th>retail_price</th>\n",
       "      <th>discounted_price</th>\n",
       "      <th>image</th>\n",
       "      <th>is_FK_Advantage_product</th>\n",
       "      <th>description</th>\n",
       "      <th>product_rating</th>\n",
       "      <th>overall_rating</th>\n",
       "      <th>brand</th>\n",
       "      <th>product_specifications</th>\n",
       "    </tr>\n",
       "  </thead>\n",
       "  <tbody>\n",
       "    <tr>\n",
       "      <th>0</th>\n",
       "      <td>4fb99d98225f415e7ece96938e95628f</td>\n",
       "      <td>2015-12-20 08:26:17 +0000</td>\n",
       "      <td>http://www.flipkart.com/v-v-art-brass-bracelet...</td>\n",
       "      <td>V&amp;V ART Brass Bracelet</td>\n",
       "      <td>Jewellery</td>\n",
       "      <td>BBAE6NYHCDTEZJTB</td>\n",
       "      <td>470.0</td>\n",
       "      <td>423.0</td>\n",
       "      <td>[\"http://img6a.flixcart.com/image/bangle-brace...</td>\n",
       "      <td>False</td>\n",
       "      <td>V&amp;V ART Brass Bracelet - Buy V&amp;V ART Brass Bra...</td>\n",
       "      <td>No rating available</td>\n",
       "      <td>No rating available</td>\n",
       "      <td>V&amp;V ART</td>\n",
       "      <td>{\"product_specification\"=&gt;[{\"key\"=&gt;\"Brand\", \"v...</td>\n",
       "    </tr>\n",
       "    <tr>\n",
       "      <th>1</th>\n",
       "      <td>4ea284c8d38b2ea97a1c2a26f34e057c</td>\n",
       "      <td>2015-12-20 08:26:17 +0000</td>\n",
       "      <td>http://www.flipkart.com/kalpaveda-copper-cuff/...</td>\n",
       "      <td>Kalpaveda Copper Copper Cuff</td>\n",
       "      <td>Jewellery</td>\n",
       "      <td>BBAEDFFKZJTY7SZZ</td>\n",
       "      <td>1200.0</td>\n",
       "      <td>1200.0</td>\n",
       "      <td>[\"http://img6a.flixcart.com/image/bangle-brace...</td>\n",
       "      <td>False</td>\n",
       "      <td>Kalpaveda Copper Copper Cuff\\n                ...</td>\n",
       "      <td>No rating available</td>\n",
       "      <td>No rating available</td>\n",
       "      <td>Kalpaveda</td>\n",
       "      <td>{\"product_specification\"=&gt;[{\"key\"=&gt;\"Stretchabl...</td>\n",
       "    </tr>\n",
       "  </tbody>\n",
       "</table>\n",
       "</div>"
      ],
      "text/plain": [
       "                            uniq_id            crawl_timestamp  \\\n",
       "0  4fb99d98225f415e7ece96938e95628f  2015-12-20 08:26:17 +0000   \n",
       "1  4ea284c8d38b2ea97a1c2a26f34e057c  2015-12-20 08:26:17 +0000   \n",
       "\n",
       "                                         product_url  \\\n",
       "0  http://www.flipkart.com/v-v-art-brass-bracelet...   \n",
       "1  http://www.flipkart.com/kalpaveda-copper-cuff/...   \n",
       "\n",
       "                   product_name product_category_tree               pid  \\\n",
       "0        V&V ART Brass Bracelet             Jewellery  BBAE6NYHCDTEZJTB   \n",
       "1  Kalpaveda Copper Copper Cuff             Jewellery  BBAEDFFKZJTY7SZZ   \n",
       "\n",
       "   retail_price  discounted_price  \\\n",
       "0         470.0             423.0   \n",
       "1        1200.0            1200.0   \n",
       "\n",
       "                                               image  is_FK_Advantage_product  \\\n",
       "0  [\"http://img6a.flixcart.com/image/bangle-brace...                    False   \n",
       "1  [\"http://img6a.flixcart.com/image/bangle-brace...                    False   \n",
       "\n",
       "                                         description       product_rating  \\\n",
       "0  V&V ART Brass Bracelet - Buy V&V ART Brass Bra...  No rating available   \n",
       "1  Kalpaveda Copper Copper Cuff\\n                ...  No rating available   \n",
       "\n",
       "        overall_rating      brand  \\\n",
       "0  No rating available    V&V ART   \n",
       "1  No rating available  Kalpaveda   \n",
       "\n",
       "                              product_specifications  \n",
       "0  {\"product_specification\"=>[{\"key\"=>\"Brand\", \"v...  \n",
       "1  {\"product_specification\"=>[{\"key\"=>\"Stretchabl...  "
      ]
     },
     "execution_count": 174,
     "metadata": {},
     "output_type": "execute_result"
    }
   ],
   "source": [
    "outlier_t=ecom_test.select_dtypes(exclude=['object','bool']).columns\n",
    "Q1_t=ecom_test[outlier_t].quantile(0.25)\n",
    "Q3_t=ecom_test[outlier_t].quantile(0.75)\n",
    "IQR_t=Q3_t-Q1_t\n",
    "lower_limit_t = Q1_t-1.5*IQR_t\n",
    "upper_limit_t = Q3_t+1.5*IQR_t\n",
    "\n",
    "ecom_t = ecom_test[~((ecom_test[outlier_t]<lower_limit_t) | (ecom_test[outlier_t]>upper_limit_t)).any(axis = 1)]\n",
    "ecom_t.head(2)"
   ]
  },
  {
   "cell_type": "code",
   "execution_count": 175,
   "id": "b0a5a992-e978-45bf-8414-718d26fdac56",
   "metadata": {},
   "outputs": [
    {
     "data": {
      "text/plain": [
       "<Axes: >"
      ]
     },
     "execution_count": 175,
     "metadata": {},
     "output_type": "execute_result"
    },
    {
     "data": {
      "image/png": "[encoded data removed]",
      "text/plain": [
       "<Figure size 640x480 with 1 Axes>"
      ]
     },
     "metadata": {},
     "output_type": "display_data"
    }
   ],
   "source": [
    "sns.boxenplot(ecom_t['retail_price'])"
   ]
  },
  {
   "cell_type": "code",
   "execution_count": 176,
   "id": "9c82116c-e42c-4574-af47-997eb00051ff",
   "metadata": {},
   "outputs": [
    {
     "name": "stdout",
     "output_type": "stream",
     "text": [
      "<class 'pandas.core.frame.DataFrame'>\n",
      "Index: 2258 entries, 0 to 2533\n",
      "Data columns (total 15 columns):\n",
      " #   Column                   Non-Null Count  Dtype  \n",
      "---  ------                   --------------  -----  \n",
      " 0   uniq_id                  2258 non-null   object \n",
      " 1   crawl_timestamp          2258 non-null   object \n",
      " 2   product_url              2258 non-null   object \n",
      " 3   product_name             2258 non-null   object \n",
      " 4   product_category_tree    2258 non-null   object \n",
      " 5   pid                      2258 non-null   object \n",
      " 6   retail_price             2258 non-null   float64\n",
      " 7   discounted_price         2258 non-null   float64\n",
      " 8   image                    2258 non-null   object \n",
      " 9   is_FK_Advantage_product  2258 non-null   bool   \n",
      " 10  description              2258 non-null   object \n",
      " 11  product_rating           2258 non-null   object \n",
      " 12  overall_rating           2258 non-null   object \n",
      " 13  brand                    2258 non-null   object \n",
      " 14  product_specifications   2258 non-null   object \n",
      "dtypes: bool(1), float64(2), object(12)\n",
      "memory usage: 331.4+ KB\n"
     ]
    }
   ],
   "source": [
    "ecom_t.info()"
   ]
  },
  {
   "cell_type": "code",
   "execution_count": 177,
   "id": "9089d615-8ce4-4d00-b885-cce379d1e898",
   "metadata": {},
   "outputs": [
    {
     "name": "stderr",
     "output_type": "stream",
     "text": [
      "C:\\Users\\Tejas Karekar\\AppData\\Local\\Temp\\ipykernel_12024\\1677170965.py:3: SettingWithCopyWarning: \n",
      "A value is trying to be set on a copy of a slice from a DataFrame.\n",
      "Try using .loc[row_indexer,col_indexer] = value instead\n",
      "\n",
      "See the caveats in the documentation: https://pandas.pydata.org/pandas-docs/stable/user_guide/indexing.html#returning-a-view-versus-a-copy\n",
      "  ecom_t[i]= ecom_t[i].astype('category')\n",
      "C:\\Users\\Tejas Karekar\\AppData\\Local\\Temp\\ipykernel_12024\\1677170965.py:4: SettingWithCopyWarning: \n",
      "A value is trying to be set on a copy of a slice from a DataFrame.\n",
      "Try using .loc[row_indexer,col_indexer] = value instead\n",
      "\n",
      "See the caveats in the documentation: https://pandas.pydata.org/pandas-docs/stable/user_guide/indexing.html#returning-a-view-versus-a-copy\n",
      "  ecom_t[i]= ecom_t[i].cat.codes\n",
      "C:\\Users\\Tejas Karekar\\AppData\\Local\\Temp\\ipykernel_12024\\1677170965.py:3: SettingWithCopyWarning: \n",
      "A value is trying to be set on a copy of a slice from a DataFrame.\n",
      "Try using .loc[row_indexer,col_indexer] = value instead\n",
      "\n",
      "See the caveats in the documentation: https://pandas.pydata.org/pandas-docs/stable/user_guide/indexing.html#returning-a-view-versus-a-copy\n",
      "  ecom_t[i]= ecom_t[i].astype('category')\n",
      "C:\\Users\\Tejas Karekar\\AppData\\Local\\Temp\\ipykernel_12024\\1677170965.py:4: SettingWithCopyWarning: \n",
      "A value is trying to be set on a copy of a slice from a DataFrame.\n",
      "Try using .loc[row_indexer,col_indexer] = value instead\n",
      "\n",
      "See the caveats in the documentation: https://pandas.pydata.org/pandas-docs/stable/user_guide/indexing.html#returning-a-view-versus-a-copy\n",
      "  ecom_t[i]= ecom_t[i].cat.codes\n",
      "C:\\Users\\Tejas Karekar\\AppData\\Local\\Temp\\ipykernel_12024\\1677170965.py:3: SettingWithCopyWarning: \n",
      "A value is trying to be set on a copy of a slice from a DataFrame.\n",
      "Try using .loc[row_indexer,col_indexer] = value instead\n",
      "\n",
      "See the caveats in the documentation: https://pandas.pydata.org/pandas-docs/stable/user_guide/indexing.html#returning-a-view-versus-a-copy\n",
      "  ecom_t[i]= ecom_t[i].astype('category')\n",
      "C:\\Users\\Tejas Karekar\\AppData\\Local\\Temp\\ipykernel_12024\\1677170965.py:4: SettingWithCopyWarning: \n",
      "A value is trying to be set on a copy of a slice from a DataFrame.\n",
      "Try using .loc[row_indexer,col_indexer] = value instead\n",
      "\n",
      "See the caveats in the documentation: https://pandas.pydata.org/pandas-docs/stable/user_guide/indexing.html#returning-a-view-versus-a-copy\n",
      "  ecom_t[i]= ecom_t[i].cat.codes\n",
      "C:\\Users\\Tejas Karekar\\AppData\\Local\\Temp\\ipykernel_12024\\1677170965.py:3: SettingWithCopyWarning: \n",
      "A value is trying to be set on a copy of a slice from a DataFrame.\n",
      "Try using .loc[row_indexer,col_indexer] = value instead\n",
      "\n",
      "See the caveats in the documentation: https://pandas.pydata.org/pandas-docs/stable/user_guide/indexing.html#returning-a-view-versus-a-copy\n",
      "  ecom_t[i]= ecom_t[i].astype('category')\n",
      "C:\\Users\\Tejas Karekar\\AppData\\Local\\Temp\\ipykernel_12024\\1677170965.py:4: SettingWithCopyWarning: \n",
      "A value is trying to be set on a copy of a slice from a DataFrame.\n",
      "Try using .loc[row_indexer,col_indexer] = value instead\n",
      "\n",
      "See the caveats in the documentation: https://pandas.pydata.org/pandas-docs/stable/user_guide/indexing.html#returning-a-view-versus-a-copy\n",
      "  ecom_t[i]= ecom_t[i].cat.codes\n",
      "C:\\Users\\Tejas Karekar\\AppData\\Local\\Temp\\ipykernel_12024\\1677170965.py:3: SettingWithCopyWarning: \n",
      "A value is trying to be set on a copy of a slice from a DataFrame.\n",
      "Try using .loc[row_indexer,col_indexer] = value instead\n",
      "\n",
      "See the caveats in the documentation: https://pandas.pydata.org/pandas-docs/stable/user_guide/indexing.html#returning-a-view-versus-a-copy\n",
      "  ecom_t[i]= ecom_t[i].astype('category')\n",
      "C:\\Users\\Tejas Karekar\\AppData\\Local\\Temp\\ipykernel_12024\\1677170965.py:4: SettingWithCopyWarning: \n",
      "A value is trying to be set on a copy of a slice from a DataFrame.\n",
      "Try using .loc[row_indexer,col_indexer] = value instead\n",
      "\n",
      "See the caveats in the documentation: https://pandas.pydata.org/pandas-docs/stable/user_guide/indexing.html#returning-a-view-versus-a-copy\n",
      "  ecom_t[i]= ecom_t[i].cat.codes\n",
      "C:\\Users\\Tejas Karekar\\AppData\\Local\\Temp\\ipykernel_12024\\1677170965.py:3: SettingWithCopyWarning: \n",
      "A value is trying to be set on a copy of a slice from a DataFrame.\n",
      "Try using .loc[row_indexer,col_indexer] = value instead\n",
      "\n",
      "See the caveats in the documentation: https://pandas.pydata.org/pandas-docs/stable/user_guide/indexing.html#returning-a-view-versus-a-copy\n",
      "  ecom_t[i]= ecom_t[i].astype('category')\n",
      "C:\\Users\\Tejas Karekar\\AppData\\Local\\Temp\\ipykernel_12024\\1677170965.py:4: SettingWithCopyWarning: \n",
      "A value is trying to be set on a copy of a slice from a DataFrame.\n",
      "Try using .loc[row_indexer,col_indexer] = value instead\n",
      "\n",
      "See the caveats in the documentation: https://pandas.pydata.org/pandas-docs/stable/user_guide/indexing.html#returning-a-view-versus-a-copy\n",
      "  ecom_t[i]= ecom_t[i].cat.codes\n",
      "C:\\Users\\Tejas Karekar\\AppData\\Local\\Temp\\ipykernel_12024\\1677170965.py:3: SettingWithCopyWarning: \n",
      "A value is trying to be set on a copy of a slice from a DataFrame.\n",
      "Try using .loc[row_indexer,col_indexer] = value instead\n",
      "\n",
      "See the caveats in the documentation: https://pandas.pydata.org/pandas-docs/stable/user_guide/indexing.html#returning-a-view-versus-a-copy\n",
      "  ecom_t[i]= ecom_t[i].astype('category')\n",
      "C:\\Users\\Tejas Karekar\\AppData\\Local\\Temp\\ipykernel_12024\\1677170965.py:4: SettingWithCopyWarning: \n",
      "A value is trying to be set on a copy of a slice from a DataFrame.\n",
      "Try using .loc[row_indexer,col_indexer] = value instead\n",
      "\n",
      "See the caveats in the documentation: https://pandas.pydata.org/pandas-docs/stable/user_guide/indexing.html#returning-a-view-versus-a-copy\n",
      "  ecom_t[i]= ecom_t[i].cat.codes\n",
      "C:\\Users\\Tejas Karekar\\AppData\\Local\\Temp\\ipykernel_12024\\1677170965.py:3: SettingWithCopyWarning: \n",
      "A value is trying to be set on a copy of a slice from a DataFrame.\n",
      "Try using .loc[row_indexer,col_indexer] = value instead\n",
      "\n",
      "See the caveats in the documentation: https://pandas.pydata.org/pandas-docs/stable/user_guide/indexing.html#returning-a-view-versus-a-copy\n",
      "  ecom_t[i]= ecom_t[i].astype('category')\n",
      "C:\\Users\\Tejas Karekar\\AppData\\Local\\Temp\\ipykernel_12024\\1677170965.py:4: SettingWithCopyWarning: \n",
      "A value is trying to be set on a copy of a slice from a DataFrame.\n",
      "Try using .loc[row_indexer,col_indexer] = value instead\n",
      "\n",
      "See the caveats in the documentation: https://pandas.pydata.org/pandas-docs/stable/user_guide/indexing.html#returning-a-view-versus-a-copy\n",
      "  ecom_t[i]= ecom_t[i].cat.codes\n",
      "C:\\Users\\Tejas Karekar\\AppData\\Local\\Temp\\ipykernel_12024\\1677170965.py:3: SettingWithCopyWarning: \n",
      "A value is trying to be set on a copy of a slice from a DataFrame.\n",
      "Try using .loc[row_indexer,col_indexer] = value instead\n",
      "\n",
      "See the caveats in the documentation: https://pandas.pydata.org/pandas-docs/stable/user_guide/indexing.html#returning-a-view-versus-a-copy\n",
      "  ecom_t[i]= ecom_t[i].astype('category')\n",
      "C:\\Users\\Tejas Karekar\\AppData\\Local\\Temp\\ipykernel_12024\\1677170965.py:4: SettingWithCopyWarning: \n",
      "A value is trying to be set on a copy of a slice from a DataFrame.\n",
      "Try using .loc[row_indexer,col_indexer] = value instead\n",
      "\n",
      "See the caveats in the documentation: https://pandas.pydata.org/pandas-docs/stable/user_guide/indexing.html#returning-a-view-versus-a-copy\n",
      "  ecom_t[i]= ecom_t[i].cat.codes\n",
      "C:\\Users\\Tejas Karekar\\AppData\\Local\\Temp\\ipykernel_12024\\1677170965.py:3: SettingWithCopyWarning: \n",
      "A value is trying to be set on a copy of a slice from a DataFrame.\n",
      "Try using .loc[row_indexer,col_indexer] = value instead\n",
      "\n",
      "See the caveats in the documentation: https://pandas.pydata.org/pandas-docs/stable/user_guide/indexing.html#returning-a-view-versus-a-copy\n",
      "  ecom_t[i]= ecom_t[i].astype('category')\n",
      "C:\\Users\\Tejas Karekar\\AppData\\Local\\Temp\\ipykernel_12024\\1677170965.py:4: SettingWithCopyWarning: \n",
      "A value is trying to be set on a copy of a slice from a DataFrame.\n",
      "Try using .loc[row_indexer,col_indexer] = value instead\n",
      "\n",
      "See the caveats in the documentation: https://pandas.pydata.org/pandas-docs/stable/user_guide/indexing.html#returning-a-view-versus-a-copy\n",
      "  ecom_t[i]= ecom_t[i].cat.codes\n",
      "C:\\Users\\Tejas Karekar\\AppData\\Local\\Temp\\ipykernel_12024\\1677170965.py:3: SettingWithCopyWarning: \n",
      "A value is trying to be set on a copy of a slice from a DataFrame.\n",
      "Try using .loc[row_indexer,col_indexer] = value instead\n",
      "\n",
      "See the caveats in the documentation: https://pandas.pydata.org/pandas-docs/stable/user_guide/indexing.html#returning-a-view-versus-a-copy\n",
      "  ecom_t[i]= ecom_t[i].astype('category')\n",
      "C:\\Users\\Tejas Karekar\\AppData\\Local\\Temp\\ipykernel_12024\\1677170965.py:4: SettingWithCopyWarning: \n",
      "A value is trying to be set on a copy of a slice from a DataFrame.\n",
      "Try using .loc[row_indexer,col_indexer] = value instead\n",
      "\n",
      "See the caveats in the documentation: https://pandas.pydata.org/pandas-docs/stable/user_guide/indexing.html#returning-a-view-versus-a-copy\n",
      "  ecom_t[i]= ecom_t[i].cat.codes\n",
      "C:\\Users\\Tejas Karekar\\AppData\\Local\\Temp\\ipykernel_12024\\1677170965.py:3: SettingWithCopyWarning: \n",
      "A value is trying to be set on a copy of a slice from a DataFrame.\n",
      "Try using .loc[row_indexer,col_indexer] = value instead\n",
      "\n",
      "See the caveats in the documentation: https://pandas.pydata.org/pandas-docs/stable/user_guide/indexing.html#returning-a-view-versus-a-copy\n",
      "  ecom_t[i]= ecom_t[i].astype('category')\n",
      "C:\\Users\\Tejas Karekar\\AppData\\Local\\Temp\\ipykernel_12024\\1677170965.py:4: SettingWithCopyWarning: \n",
      "A value is trying to be set on a copy of a slice from a DataFrame.\n",
      "Try using .loc[row_indexer,col_indexer] = value instead\n",
      "\n",
      "See the caveats in the documentation: https://pandas.pydata.org/pandas-docs/stable/user_guide/indexing.html#returning-a-view-versus-a-copy\n",
      "  ecom_t[i]= ecom_t[i].cat.codes\n"
     ]
    }
   ],
   "source": [
    "encode_t = ecom_t.select_dtypes(['object','bool','float64']).columns\n",
    "for i in encode_t:\n",
    "    ecom_t[i]= ecom_t[i].astype('category')\n",
    "    ecom_t[i]= ecom_t[i].cat.codes"
   ]
  },
  {
   "cell_type": "code",
   "execution_count": 178,
   "id": "ebbf55be-5d47-40fa-895c-1945e5ca7d98",
   "metadata": {},
   "outputs": [
    {
     "data": {
      "text/html": [
       "<div>\n",
       "<style scoped>\n",
       "    .dataframe tbody tr th:only-of-type {\n",
       "        vertical-align: middle;\n",
       "    }\n",
       "\n",
       "    .dataframe tbody tr th {\n",
       "        vertical-align: top;\n",
       "    }\n",
       "\n",
       "    .dataframe thead th {\n",
       "        text-align: right;\n",
       "    }\n",
       "</style>\n",
       "<table border=\"1\" class=\"dataframe\">\n",
       "  <thead>\n",
       "    <tr style=\"text-align: right;\">\n",
       "      <th></th>\n",
       "      <th>uniq_id</th>\n",
       "      <th>crawl_timestamp</th>\n",
       "      <th>product_url</th>\n",
       "      <th>product_name</th>\n",
       "      <th>product_category_tree</th>\n",
       "      <th>pid</th>\n",
       "      <th>retail_price</th>\n",
       "      <th>discounted_price</th>\n",
       "      <th>image</th>\n",
       "      <th>is_FK_Advantage_product</th>\n",
       "      <th>description</th>\n",
       "      <th>product_rating</th>\n",
       "      <th>overall_rating</th>\n",
       "      <th>brand</th>\n",
       "      <th>product_specifications</th>\n",
       "    </tr>\n",
       "  </thead>\n",
       "  <tbody>\n",
       "    <tr>\n",
       "      <th>0</th>\n",
       "      <td>720</td>\n",
       "      <td>5</td>\n",
       "      <td>2010</td>\n",
       "      <td>1154</td>\n",
       "      <td>7</td>\n",
       "      <td>372</td>\n",
       "      <td>43</td>\n",
       "      <td>113</td>\n",
       "      <td>1165</td>\n",
       "      <td>0</td>\n",
       "      <td>1772</td>\n",
       "      <td>22</td>\n",
       "      <td>22</td>\n",
       "      <td>595</td>\n",
       "      <td>674</td>\n",
       "    </tr>\n",
       "    <tr>\n",
       "      <th>1</th>\n",
       "      <td>713</td>\n",
       "      <td>5</td>\n",
       "      <td>842</td>\n",
       "      <td>554</td>\n",
       "      <td>7</td>\n",
       "      <td>509</td>\n",
       "      <td>178</td>\n",
       "      <td>353</td>\n",
       "      <td>1188</td>\n",
       "      <td>0</td>\n",
       "      <td>460</td>\n",
       "      <td>22</td>\n",
       "      <td>22</td>\n",
       "      <td>304</td>\n",
       "      <td>1785</td>\n",
       "    </tr>\n",
       "  </tbody>\n",
       "</table>\n",
       "</div>"
      ],
      "text/plain": [
       "   uniq_id  crawl_timestamp  product_url  product_name  product_category_tree  \\\n",
       "0      720                5         2010          1154                      7   \n",
       "1      713                5          842           554                      7   \n",
       "\n",
       "   pid  retail_price  discounted_price  image  is_FK_Advantage_product  \\\n",
       "0  372            43               113   1165                        0   \n",
       "1  509           178               353   1188                        0   \n",
       "\n",
       "   description  product_rating  overall_rating  brand  product_specifications  \n",
       "0         1772              22              22    595                     674  \n",
       "1          460              22              22    304                    1785  "
      ]
     },
     "execution_count": 178,
     "metadata": {},
     "output_type": "execute_result"
    }
   ],
   "source": [
    "ecom_t.head(2)"
   ]
  },
  {
   "cell_type": "code",
   "execution_count": 179,
   "id": "d453e254-6b72-4f82-913a-e265ceaef6bc",
   "metadata": {},
   "outputs": [
    {
     "name": "stdout",
     "output_type": "stream",
     "text": [
      "<class 'pandas.core.frame.DataFrame'>\n",
      "Index: 2258 entries, 0 to 2533\n",
      "Data columns (total 15 columns):\n",
      " #   Column                   Non-Null Count  Dtype\n",
      "---  ------                   --------------  -----\n",
      " 0   uniq_id                  2258 non-null   int16\n",
      " 1   crawl_timestamp          2258 non-null   int8 \n",
      " 2   product_url              2258 non-null   int16\n",
      " 3   product_name             2258 non-null   int16\n",
      " 4   product_category_tree    2258 non-null   int8 \n",
      " 5   pid                      2258 non-null   int16\n",
      " 6   retail_price             2258 non-null   int16\n",
      " 7   discounted_price         2258 non-null   int16\n",
      " 8   image                    2258 non-null   int16\n",
      " 9   is_FK_Advantage_product  2258 non-null   int8 \n",
      " 10  description              2258 non-null   int16\n",
      " 11  product_rating           2258 non-null   int8 \n",
      " 12  overall_rating           2258 non-null   int8 \n",
      " 13  brand                    2258 non-null   int16\n",
      " 14  product_specifications   2258 non-null   int16\n",
      "dtypes: int16(10), int8(5)\n",
      "memory usage: 137.3 KB\n"
     ]
    }
   ],
   "source": [
    "ecom_t.info()"
   ]
  },
  {
   "cell_type": "code",
   "execution_count": 180,
   "id": "81c98a67-74ab-4f4a-bdc9-df70c500a6e5",
   "metadata": {},
   "outputs": [
    {
     "data": {
      "text/plain": [
       "array([[1154,   43, 1165, 1772,  595,  674],\n",
       "       [ 554,  178, 1188,  460,  304, 1785],\n",
       "       [1103,  297,  287, 1757,  565,  621],\n",
       "       ...,\n",
       "       [ 310,  192,  911,   83,  174, 1344],\n",
       "       [ 310,  223,  904,   79,  174, 1341],\n",
       "       [ 310,  223, 2054,   83,  174, 1371]], dtype=int16)"
      ]
     },
     "execution_count": 180,
     "metadata": {},
     "output_type": "execute_result"
    }
   ],
   "source": [
    "x_test = ecom_t.iloc[:,[3,6,8,10,13,14]].values\n",
    "x_test"
   ]
  },
  {
   "cell_type": "code",
   "execution_count": 181,
   "id": "a4da9c36-2086-4608-8b6f-2114cf088a89",
   "metadata": {},
   "outputs": [
    {
     "data": {
      "text/plain": [
       "array([7, 7, 9, ..., 1, 1, 1], dtype=int8)"
      ]
     },
     "execution_count": 181,
     "metadata": {},
     "output_type": "execute_result"
    }
   ],
   "source": [
    "y_test = ecom_t.iloc[:,4].values\n",
    "y_test"
   ]
  },
  {
   "cell_type": "code",
   "execution_count": 182,
   "id": "1b02f4d5-7d4d-4464-860c-ab85ceee29d6",
   "metadata": {},
   "outputs": [],
   "source": [
    "# Testing the Model\n",
    "y_predict = regressor_ini.predict(x_test)"
   ]
  },
  {
   "cell_type": "code",
   "execution_count": 183,
   "id": "60f6a6ec-2d18-4155-9b30-7d956744cfe3",
   "metadata": {},
   "outputs": [
    {
     "data": {
      "text/plain": [
       "-0.2688896604040143"
      ]
     },
     "execution_count": 183,
     "metadata": {},
     "output_type": "execute_result"
    }
   ],
   "source": [
    "# Checking the accuracy score\n",
    "from sklearn.metrics import r2_score\n",
    "\n",
    "r2_score(y_test,y_predict)"
   ]
  },
  {
   "cell_type": "markdown",
   "id": "c42fd942-5c40-4908-b73f-7c0291643d26",
   "metadata": {},
   "source": [
    "### Linear Model was selected to predict the data but it was a Categorical Data. so, The prediction score was in negative which gave us the indication that non of the Regression models would work on this data and we should move towards Classification models so we can achive the prediction score."
   ]
  },
  {
   "cell_type": "markdown",
   "id": "8f466ce6-787a-4d85-ba33-6371d8dc4150",
   "metadata": {},
   "source": [
    "# Classification Model (KNN)"
   ]
  },
  {
   "cell_type": "code",
   "execution_count": 184,
   "id": "3ec51c48-00a0-4761-b6ab-2530e84720d0",
   "metadata": {},
   "outputs": [
    {
     "data": {
      "text/plain": [
       "array([[10004,    86,   410, ...,    35,   103,  7267],\n",
       "       [12478,    86,   957, ...,    35,    41,  5746],\n",
       "       [  470,    86,   407, ...,    35,   103,  7238],\n",
       "       ...,\n",
       "       [ 9288,    11, 11178, ...,    35,  1739,  3430],\n",
       "       [  966,    11,  5762, ...,    35,   935,  4494],\n",
       "       [10995,    11,  5763, ...,    35,   935,  4495]], dtype=int16)"
      ]
     },
     "execution_count": 184,
     "metadata": {},
     "output_type": "execute_result"
    }
   ],
   "source": [
    "x_train_knn = ecom.iloc[:,[0,1,2,3,5,6,7,8,9,10,11,12,13,14]].values\n",
    "x_train_knn"
   ]
  },
  {
   "cell_type": "code",
   "execution_count": 185,
   "id": "5ceb3193-5a64-48ad-9569-594224c0698e",
   "metadata": {},
   "outputs": [
    {
     "data": {
      "text/plain": [
       "array([3, 5, 3, ..., 9, 7, 7], dtype=int8)"
      ]
     },
     "execution_count": 185,
     "metadata": {},
     "output_type": "execute_result"
    }
   ],
   "source": [
    "y_train_knn = ecom.iloc[:,4].values\n",
    "y_train_knn"
   ]
  },
  {
   "cell_type": "markdown",
   "id": "3aa0f1a6-efd5-4757-848a-41d71e49f4b5",
   "metadata": {},
   "source": [
    "### Creating a Model on Training dataset"
   ]
  },
  {
   "cell_type": "code",
   "execution_count": 186,
   "id": "595e355a-2c36-4ef5-a80b-a239ddcae26b",
   "metadata": {},
   "outputs": [],
   "source": [
    "#Applying the K-Nearest Neighbour on the training dataset\n",
    "from sklearn.neighbors import KNeighborsClassifier\n",
    "knnmodel_ini = KNeighborsClassifier().fit(x_train_knn,y_train_knn)"
   ]
  },
  {
   "cell_type": "markdown",
   "id": "6610aec6-0b19-4c68-9921-7c25e31dbb3a",
   "metadata": {},
   "source": [
    "### Running the Model on Test Dataset"
   ]
  },
  {
   "cell_type": "code",
   "execution_count": 187,
   "id": "305b3718-9909-49f6-953d-45aa61fc88d9",
   "metadata": {},
   "outputs": [
    {
     "data": {
      "text/plain": [
       "array([[ 720,    5, 2010, ...,   22,  595,  674],\n",
       "       [ 713,    5,  842, ...,   22,  304, 1785],\n",
       "       [2107,    5, 1906, ...,   22,  565,  621],\n",
       "       ...,\n",
       "       [1310,    0,  452, ...,   22,  174, 1344],\n",
       "       [ 941,    0,  466, ...,   22,  174, 1341],\n",
       "       [1793,    0,  456, ...,   22,  174, 1371]], dtype=int16)"
      ]
     },
     "execution_count": 187,
     "metadata": {},
     "output_type": "execute_result"
    }
   ],
   "source": [
    "x_test_knn = ecom_t.iloc[:,[0,1,2,3,5,6,7,8,9,10,11,12,13,14]].values\n",
    "x_test_knn"
   ]
  },
  {
   "cell_type": "code",
   "execution_count": 188,
   "id": "416639cf-d685-403f-bb7d-fedd6d18943b",
   "metadata": {},
   "outputs": [
    {
     "data": {
      "text/plain": [
       "array([7, 7, 9, ..., 1, 1, 1], dtype=int8)"
      ]
     },
     "execution_count": 188,
     "metadata": {},
     "output_type": "execute_result"
    }
   ],
   "source": [
    "y_test_knn = ecom_t.iloc[:,4].values\n",
    "y_test_knn"
   ]
  },
  {
   "cell_type": "code",
   "execution_count": 189,
   "id": "71f2c8a8-9d58-44f2-8929-99fe671f1a12",
   "metadata": {},
   "outputs": [],
   "source": [
    "from sklearn.metrics import accuracy_score,confusion_matrix,ConfusionMatrixDisplay"
   ]
  },
  {
   "cell_type": "code",
   "execution_count": 190,
   "id": "1e76de31-5f7f-420e-b1b6-1892390ac899",
   "metadata": {},
   "outputs": [
    {
     "data": {
      "text/plain": [
       "0.20239149689991143"
      ]
     },
     "execution_count": 190,
     "metadata": {},
     "output_type": "execute_result"
    }
   ],
   "source": [
    "#Running the model on the test dataset\n",
    "y_pred_knn = knnmodel_ini.predict(x_test_knn)\n",
    "\n",
    "#Using accuracy score we are checking the accuracy on the testing dataset\n",
    "accuracy_score(y_test_knn,y_pred_knn)"
   ]
  },
  {
   "cell_type": "markdown",
   "id": "25f977e9-39f8-4d1b-927e-64433ad10b4a",
   "metadata": {},
   "source": [
    "### KNN Model Struggled to predict the data this can be due to data Imbalance. As compared to training dataset test dataset was just 15%. This could be major reason for low accuarcy score"
   ]
  }
 ],
 "metadata": {
  "kernelspec": {
   "display_name": "Python 3 (ipykernel)",
   "language": "python",
   "name": "python3"
  },
  "language_info": {
   "codemirror_mode": {
    "name": "ipython",
    "version": 3
   },
   "file_extension": ".py",
   "mimetype": "text/x-python",
   "name": "python",
   "nbconvert_exporter": "python",
   "pygments_lexer": "ipython3",
   "version": "3.11.5"
  }
 },
 "nbformat": 4,
 "nbformat_minor": 5
}
